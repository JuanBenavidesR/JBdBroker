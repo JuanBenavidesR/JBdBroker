{
  "nbformat": 4,
  "nbformat_minor": 0,
  "metadata": {
    "colab": {
      "name": "G3_Week2_MNIST_Keras.ipynb",
      "provenance": [],
      "collapsed_sections": [],
      "include_colab_link": true
    },
    "kernelspec": {
      "name": "python3",
      "display_name": "Python 3"
    }
  },
  "cells": [
    {
      "cell_type": "markdown",
      "metadata": {
        "id": "view-in-github",
        "colab_type": "text"
      },
      "source": [
        "<a href=\"https://colab.research.google.com/github/JuanBenavidesR/JBdBroker/blob/master/G3_Week2_MNIST_Keras.ipynb\" target=\"_parent\"><img src=\"https://colab.research.google.com/assets/colab-badge.svg\" alt=\"Open In Colab\"/></a>"
      ]
    },
    {
      "cell_type": "markdown",
      "metadata": {
        "id": "eBUi_2hehdE-"
      },
      "source": [
        "# **MNIST dataset**"
      ]
    },
    {
      "cell_type": "markdown",
      "metadata": {
        "id": "0fX6fm6ZAylI"
      },
      "source": [
        "En este ejercicio, aprenderemos a clasificar los dígitos del 0-9 usando una red neuronal multicapa."
      ]
    },
    {
      "cell_type": "markdown",
      "metadata": {
        "id": "bdZd2drChiDr"
      },
      "source": [
        "La base de datos MNIST, puede importarse directamente a través de Keras. Esta importación arroja cuatro conjuntos de numpy arrays"
      ]
    },
    {
      "cell_type": "code",
      "metadata": {
        "id": "pfHHS-aKhUcK",
        "colab": {
          "base_uri": "https://localhost:8080/"
        },
        "outputId": "4ced720e-96f2-4b2f-8e93-e46675787f62"
      },
      "source": [
        "from tensorflow.keras.datasets import mnist\n",
        "\n",
        "(train_images, train_labels), (test_images, test_labels) = mnist.load_data()"
      ],
      "execution_count": null,
      "outputs": [
        {
          "output_type": "stream",
          "text": [
            "Downloading data from https://storage.googleapis.com/tensorflow/tf-keras-datasets/mnist.npz\n",
            "11493376/11490434 [==============================] - 0s 0us/step\n"
          ],
          "name": "stdout"
        }
      ]
    },
    {
      "cell_type": "markdown",
      "metadata": {
        "id": "GSyVcq_yiVdH"
      },
      "source": [
        "El conjunto de entrenamiento está constituido por los arreglos train_images y train_labels, mientras que el conjunto de prueba se forma por los arreglos test_images y test_labels. "
      ]
    },
    {
      "cell_type": "markdown",
      "metadata": {
        "id": "JRboMM9QBEQV"
      },
      "source": [
        "Mediante el conjunto de entrenamiento, la red neuronal aprende a establecer la relación entre las imágenes y sus respectivas clases, por ejemplo, correlaciona el dígito 0 con la clase 0, el dígito 1 con la clase 1 y así sucesivamente.<br>\n",
        "Por su parte, el conjunto de prueba es útil para evaluar si el aprendizaje que realizó la red neuronal durante la etapa de entrenamiento, es suficiente para clasificar correctamente nuevos dígitos, los cuales no se incluyeron en el conjunto de entrenamiento, de ahí que, como condición obligatoria para entrenar y evaluar correctamente una red neuronal, el conjunto de prueba nunca debe mezclarse con el conjunto de entrenamiento. "
      ]
    },
    {
      "cell_type": "code",
      "metadata": {
        "id": "jLEdd_KSN0SF"
      },
      "source": [
        "Echémosle un vistazo al conjunto de entrenamiento:"
      ],
      "execution_count": null,
      "outputs": []
    },
    {
      "cell_type": "code",
      "metadata": {
        "id": "nhRyaPlKinh0",
        "colab": {
          "base_uri": "https://localhost:8080/",
          "height": 34
        },
        "outputId": "1b835412-406a-42b7-f997-3f4ef25f1e9d"
      },
      "source": [
        "train_images.shape"
      ],
      "execution_count": null,
      "outputs": [
        {
          "output_type": "execute_result",
          "data": {
            "text/plain": [
              "(60000, 28, 28)"
            ]
          },
          "metadata": {
            "tags": []
          },
          "execution_count": 2
        }
      ]
    },
    {
      "cell_type": "code",
      "metadata": {
        "id": "Ivg2Bu2Siq08",
        "colab": {
          "base_uri": "https://localhost:8080/",
          "height": 34
        },
        "outputId": "52c99f2c-7569-4dc6-983b-72a13431438e"
      },
      "source": [
        "len(train_labels)"
      ],
      "execution_count": null,
      "outputs": [
        {
          "output_type": "execute_result",
          "data": {
            "text/plain": [
              "60000"
            ]
          },
          "metadata": {
            "tags": []
          },
          "execution_count": 3
        }
      ]
    },
    {
      "cell_type": "code",
      "metadata": {
        "id": "NjLsHTNlisoE",
        "colab": {
          "base_uri": "https://localhost:8080/",
          "height": 34
        },
        "outputId": "e0761fc7-b7ca-412e-e7f2-0c0b1a3c9f4e"
      },
      "source": [
        "train_labels"
      ],
      "execution_count": null,
      "outputs": [
        {
          "output_type": "execute_result",
          "data": {
            "text/plain": [
              "array([5, 0, 4, ..., 5, 6, 8], dtype=uint8)"
            ]
          },
          "metadata": {
            "tags": []
          },
          "execution_count": 4
        }
      ]
    },
    {
      "cell_type": "code",
      "metadata": {
        "id": "7H2epkPcj-ai",
        "colab": {
          "base_uri": "https://localhost:8080/",
          "height": 34
        },
        "outputId": "0719f46d-b16c-46b9-ff12-6fd47d3efefb"
      },
      "source": [
        "train_labels[59993]"
      ],
      "execution_count": null,
      "outputs": [
        {
          "output_type": "execute_result",
          "data": {
            "text/plain": [
              "5"
            ]
          },
          "metadata": {
            "tags": []
          },
          "execution_count": 10
        }
      ]
    },
    {
      "cell_type": "code",
      "metadata": {
        "colab": {
          "base_uri": "https://localhost:8080/",
          "height": 265
        },
        "id": "LkRNoc1QN4A0",
        "outputId": "b12d3898-c02d-4fad-bcdf-2014b0e2addf"
      },
      "source": [
        "import matplotlib.pyplot as plt\n",
        "plt.imshow(train_images[10], cmap='gray', vmin=0, vmax=255)\n",
        "plt.show()"
      ],
      "execution_count": null,
      "outputs": [
        {
          "output_type": "display_data",
          "data": {
            "image/png": "[encoded data removed]",
            "text/plain": [
              "<Figure size 432x288 with 1 Axes>"
            ]
          },
          "metadata": {
            "tags": [],
            "needs_background": "light"
          }
        }
      ]
    },
    {
      "cell_type": "markdown",
      "metadata": {
        "id": "lsOOvNuBiwTV"
      },
      "source": [
        "Ahora analicemos el conjunto de prueba:"
      ]
    },
    {
      "cell_type": "code",
      "metadata": {
        "id": "T5AIrqoOizCE",
        "colab": {
          "base_uri": "https://localhost:8080/",
          "height": 34
        },
        "outputId": "5c5ff21a-3b00-44e4-d946-73390b581e22"
      },
      "source": [
        "test_images.shape"
      ],
      "execution_count": null,
      "outputs": [
        {
          "output_type": "execute_result",
          "data": {
            "text/plain": [
              "(10000, 28, 28)"
            ]
          },
          "metadata": {
            "tags": []
          },
          "execution_count": 11
        }
      ]
    },
    {
      "cell_type": "code",
      "metadata": {
        "id": "FaxOWmN0i1_8",
        "colab": {
          "base_uri": "https://localhost:8080/",
          "height": 34
        },
        "outputId": "f1e0343f-9363-4418-f824-d1c2e7a429e5"
      },
      "source": [
        "len(test_labels)"
      ],
      "execution_count": null,
      "outputs": [
        {
          "output_type": "execute_result",
          "data": {
            "text/plain": [
              "10000"
            ]
          },
          "metadata": {
            "tags": []
          },
          "execution_count": 12
        }
      ]
    },
    {
      "cell_type": "code",
      "metadata": {
        "id": "6zkgYmNbi3sc",
        "colab": {
          "base_uri": "https://localhost:8080/",
          "height": 34
        },
        "outputId": "b13d72b6-ad54-4d67-9553-14d8d008b5cd"
      },
      "source": [
        "test_labels"
      ],
      "execution_count": null,
      "outputs": [
        {
          "output_type": "execute_result",
          "data": {
            "text/plain": [
              "array([7, 2, 1, ..., 4, 5, 6], dtype=uint8)"
            ]
          },
          "metadata": {
            "tags": []
          },
          "execution_count": 13
        }
      ]
    },
    {
      "cell_type": "code",
      "metadata": {
        "id": "iraiHnif7rG5",
        "colab": {
          "base_uri": "https://localhost:8080/",
          "height": 34
        },
        "outputId": "a6c21c34-1fb2-4859-ae70-c47661cf385a"
      },
      "source": [
        "test_labels[2]"
      ],
      "execution_count": null,
      "outputs": [
        {
          "output_type": "execute_result",
          "data": {
            "text/plain": [
              "1"
            ]
          },
          "metadata": {
            "tags": []
          },
          "execution_count": 20
        }
      ]
    },
    {
      "cell_type": "code",
      "metadata": {
        "colab": {
          "base_uri": "https://localhost:8080/",
          "height": 265
        },
        "id": "YEeCVVFsOQEz",
        "outputId": "ef10ccbc-586d-42cf-c6bc-661a0f088186"
      },
      "source": [
        "import matplotlib.pyplot as plt\n",
        "plt.imshow(test_images[10], cmap='gray', vmin=0, vmax=255)\n",
        "plt.show()"
      ],
      "execution_count": null,
      "outputs": [
        {
          "output_type": "display_data",
          "data": {
            "image/png": "[encoded data removed]",
            "text/plain": [
              "<Figure size 432x288 with 1 Axes>"
            ]
          },
          "metadata": {
            "tags": [],
            "needs_background": "light"
          }
        }
      ]
    },
    {
      "cell_type": "markdown",
      "metadata": {
        "id": "kB-JMSdfi6LE"
      },
      "source": [
        "Definimos nuestra arquitectura:"
      ]
    },
    {
      "cell_type": "code",
      "metadata": {
        "id": "KBYBuDL9jAKs"
      },
      "source": [
        "from tensorflow.keras import models\n",
        "from tensorflow.keras import layers\n",
        "\n",
        "network = models.Sequential() #network es el nombre de nuestro modelo, el cual es de tipo Sequential.\n",
        "\n",
        "#Definimos la capa oculta, la cual se compone de 512 neuronas y recibe información de las neuronas de la capa de entrada, la cual tiene un total de 28*28 neuronas.\n",
        "#Mediante el parámetro activation, podemos determinar la función de activación que se estará aplicando en cada una de las neuronas de la capa oculta.\n",
        "network.add(layers.Dense(512, activation='relu', input_shape=[(28 * 28,)])) #Dense -> Densamente conectada\n",
        "\n",
        "#Definimos la capa de salida, la cual se compone de 10 neuronas.\n",
        "#Siempre que queremos abordar un problema de clasificación multiclase, se emplear la función softmax en la capa de salida.\n",
        "network.add(layers.Dense(10, activation='softmax')) "
      ],
      "execution_count": null,
      "outputs": []
    },
    {
      "cell_type": "code",
      "metadata": {
        "id": "b3-E2rP8gZap",
        "colab": {
          "base_uri": "https://localhost:8080/"
        },
        "outputId": "fe9bfe45-c3a3-49d4-9843-b2cd51a202ef"
      },
      "source": [
        "network.summary()"
      ],
      "execution_count": null,
      "outputs": [
        {
          "output_type": "stream",
          "text": [
            "Model: \"sequential_1\"\n",
            "_________________________________________________________________\n",
            "Layer (type)                 Output Shape              Param #   \n",
            "=================================================================\n",
            "dense_1 (Dense)              (None, 512)               401920    \n",
            "_________________________________________________________________\n",
            "dense_2 (Dense)              (None, 10)                5130      \n",
            "=================================================================\n",
            "Total params: 407,050\n",
            "Trainable params: 407,050\n",
            "Non-trainable params: 0\n",
            "_________________________________________________________________\n"
          ],
          "name": "stdout"
        }
      ]
    },
    {
      "cell_type": "markdown",
      "metadata": {
        "id": "u6ZZyx63mtS2"
      },
      "source": [
        "A continuación, se muestra la representación gráfica de dos de las funciones de activación más conocidas dentro del marco de las redes neuronales."
      ]
    },
    {
      "cell_type": "code",
      "metadata": {
        "id": "c4gzs7n-j2iz",
        "colab": {
          "base_uri": "https://localhost:8080/",
          "height": 297
        },
        "outputId": "23f3b616-f468-4989-b71d-dfb202335c3f"
      },
      "source": [
        "import matplotlib.pyplot as plt\n",
        "import numpy as np\n",
        "\n",
        "\n",
        "def relu(z):\n",
        "    return np.maximum(0, z)\n",
        "\n",
        "z = np.arange(-1, 1.1, 0.1)\n",
        "phi_z = relu(z)\n",
        "plt.plot(z, phi_z, 'r', linewidth=4.0)\n",
        "plt.title(\"Función ReLU\", fontsize=30)\n",
        "plt.axvline(0.0, color='k')\n",
        "plt.xlim(-1.0, 1.0)\n",
        "plt.ylim(0, 1.0)\n",
        "plt.xlabel('z')\n",
        "plt.ylabel('$\\phi (z)$')\n",
        "\n",
        "# y axis ticks and gridline\n",
        "plt.yticks([0.0, 0.5, 1.0])\n",
        "ax = plt.gca()\n",
        "ax.yaxis.grid(True)\n",
        "\n",
        "plt.tight_layout()\n",
        "plt.show()"
      ],
      "execution_count": null,
      "outputs": [
        {
          "output_type": "display_data",
          "data": {
            "image/png": "[encoded data removed]",
            "text/plain": [
              "<Figure size 432x288 with 1 Axes>"
            ]
          },
          "metadata": {
            "tags": [],
            "needs_background": "light"
          }
        }
      ]
    },
    {
      "cell_type": "code",
      "metadata": {
        "id": "5euLIWEKDcGZ",
        "colab": {
          "base_uri": "https://localhost:8080/",
          "height": 297
        },
        "outputId": "d78a7f7d-9e5c-4e07-c3f9-13d280aaa1bf"
      },
      "source": [
        "import matplotlib.pyplot as plt\n",
        "import numpy as np\n",
        "\n",
        "\n",
        "def sigmoid(z):\n",
        "    return 1.0 / (1.0 + np.exp(-z))\n",
        "\n",
        "z = np.arange(-5, 5, 0.1)\n",
        "phi_z = sigmoid(z)\n",
        "\n",
        "plt.plot(z, phi_z, 'r', linewidth=4.0)\n",
        "plt.title(\"Función Sigmoide\", fontsize=30)\n",
        "plt.axvline(0.0, color='k')\n",
        "plt.ylim(-0.1, 1.1)\n",
        "plt.xlabel('z')\n",
        "plt.ylabel('$\\phi (z)$')\n",
        "\n",
        "# y axis ticks and gridline\n",
        "plt.yticks([0.0, 0.5, 1.0])\n",
        "ax = plt.gca()\n",
        "ax.yaxis.grid(True)\n",
        "\n",
        "plt.tight_layout()\n",
        "plt.axhspan(0, 1, facecolor='0.2', alpha=0.5)\n",
        "#plt.savefig('images/03_02.png', dpi=300)\n",
        "plt.show()"
      ],
      "execution_count": null,
      "outputs": [
        {
          "output_type": "display_data",
          "data": {
            "image/png": "[encoded data removed]",
            "text/plain": [
              "<Figure size 432x288 with 1 Axes>"
            ]
          },
          "metadata": {
            "tags": [],
            "needs_background": "light"
          }
        }
      ]
    },
    {
      "cell_type": "markdown",
      "metadata": {
        "id": "y7tnJ1qEnDaT"
      },
      "source": [
        "El siguiente paso, se conoce como compilación y consiste en definir los siguientes tres valores:<br>\n",
        "1. Optimizador: Es la función que actualiza los pesos y está determinada por la función de pérdida.\n",
        "2. Función de pérdida: Nos permite conocer el desempeño de la red neuronal durante el entrenamiento, y aporta la información necesaria para que los pesos de la red neuronal se ajusten en la dirección correcta. \n",
        "3. Métricas: Estas nos brindan la posibilidad de darle un seguimiento al rendimiento de la red neuronal.\n",
        "\n",
        "\n",
        "\n"
      ]
    },
    {
      "cell_type": "code",
      "metadata": {
        "id": "L4tYxEVLovdH"
      },
      "source": [
        "network.compile(optimizer='rmsprop', #Los optimizadores siempre son una variación del SGD.\n",
        "              loss='categorical_crossentropy', #La función de pérdida categorical_crossentropy se usa siempre que estamos tratando un problema de clasificación multiclase. \n",
        "              metrics=['accuracy']) #La métrica accuracy nos permitirá conocer que tan exacto es el modelo neuronal al clasificar dígitos. Es importante\n",
        "                                    #tener en cuenta que, sin importar el tipo de métricas, estas no tienen influencia en el entrenamiento."
      ],
      "execution_count": null,
      "outputs": []
    },
    {
      "cell_type": "markdown",
      "metadata": {
        "id": "ufAeVyXro_1z"
      },
      "source": [
        "Ahora, es necesario preprocesar nuestros datos. Previamente, nos dimos cuenta que el conjunto de entrenamiento está organizado en un arreglo con dimensiones (60000, 28, 28), sin embargo, la red neuronal es incapaz de recibir datos con esas dimensiones, por la tanto, procedemos a redimensionar el conjunto de entrenamiento, de tal manera que al final nos quede un arreglo con dimensiones (60000, 28*28). Por otro lado, también procedemos a normalizar los elementos de cada instancia, los cuales tienen valores en el rango 0-255. La normalización se realiza en el intervalo [0, 255]. Finalmente, también es importante llevar a cabo la conversión de enteros a flotantes de cada una de las instancias."
      ]
    },
    {
      "cell_type": "code",
      "metadata": {
        "id": "NzY0Ep61qa18"
      },
      "source": [
        "train_images = train_images.reshape((60000, 28 * 28))\n",
        "train_images = train_images.astype('float32') / 255\n",
        "\n",
        "test_images = test_images.reshape((10000, 28 * 28))\n",
        "test_images = test_images.astype('float32') / 255"
      ],
      "execution_count": null,
      "outputs": []
    },
    {
      "cell_type": "markdown",
      "metadata": {
        "id": "WSDOAUH4wNyR"
      },
      "source": [
        "Como apunte adicional, al estar trabajando en Tensorflow/Keras, el término *arreglo* se deja de lado para en su lugar utilizar el término *tensor*, el cual es, básicamente, una generalización de las matrices."
      ]
    },
    {
      "cell_type": "markdown",
      "metadata": {
        "id": "x8r58e6jqgmq"
      },
      "source": [
        "En lo que a las etiquetas se refiere, una práctica de uso extendido consiste en aplicar un mecanismo llamado **\"one-hot encoding\"**, que tiene la función de generar un vector de ceros con un número de dimensiones igual al del número de clases, y coloca un 1 en el índice representado por la clase. Así, al final del proceso de one-hot encoding, se construye un vector binario.<br>"
      ]
    },
    {
      "cell_type": "code",
      "metadata": {
        "id": "rTPGw5eRs9ay",
        "colab": {
          "base_uri": "https://localhost:8080/"
        },
        "outputId": "d00e75e1-e6b9-490e-92a7-f6d36ef19079"
      },
      "source": [
        "train_labels[567]"
      ],
      "execution_count": null,
      "outputs": [
        {
          "output_type": "execute_result",
          "data": {
            "text/plain": [
              "7"
            ]
          },
          "metadata": {
            "tags": []
          },
          "execution_count": 18
        }
      ]
    },
    {
      "cell_type": "code",
      "metadata": {
        "id": "siYtaR61qUov"
      },
      "source": [
        "from tensorflow.keras.utils import to_categorical\n",
        "\n",
        "train_labels = to_categorical(train_labels)\n",
        "test_labels = to_categorical(test_labels)"
      ],
      "execution_count": null,
      "outputs": []
    },
    {
      "cell_type": "code",
      "metadata": {
        "id": "VIBU2iMHqt_j",
        "colab": {
          "base_uri": "https://localhost:8080/"
        },
        "outputId": "915477dd-5092-48ad-d053-e5c483dfd1ac"
      },
      "source": [
        "train_labels[567]"
      ],
      "execution_count": null,
      "outputs": [
        {
          "output_type": "execute_result",
          "data": {
            "text/plain": [
              "array([0., 0., 0., 0., 0., 0., 0., 1., 0., 0.], dtype=float32)"
            ]
          },
          "metadata": {
            "tags": []
          },
          "execution_count": 20
        }
      ]
    },
    {
      "cell_type": "markdown",
      "metadata": {
        "id": "wBNKr2dBzhLS"
      },
      "source": [
        "En este punto, ya estamos listos para entrenar nuestro modelo:"
      ]
    },
    {
      "cell_type": "code",
      "metadata": {
        "id": "FxQkOeh4voX7",
        "colab": {
          "base_uri": "https://localhost:8080/"
        },
        "outputId": "83add649-731f-440e-b115-5e5289224c91"
      },
      "source": [
        "network.fit(train_images, train_labels, epochs=5, batch_size=128)"
      ],
      "execution_count": null,
      "outputs": [
        {
          "output_type": "stream",
          "text": [
            "Epoch 1/5\n",
            "469/469 [==============================] - 5s 9ms/step - loss: 0.4350 - accuracy: 0.8735\n",
            "Epoch 2/5\n",
            "469/469 [==============================] - 4s 8ms/step - loss: 0.1125 - accuracy: 0.9654\n",
            "Epoch 3/5\n",
            "469/469 [==============================] - 4s 8ms/step - loss: 0.0680 - accuracy: 0.9801\n",
            "Epoch 4/5\n",
            "469/469 [==============================] - 4s 8ms/step - loss: 0.0477 - accuracy: 0.9860\n",
            "Epoch 5/5\n",
            "469/469 [==============================] - 4s 8ms/step - loss: 0.0349 - accuracy: 0.9898\n"
          ],
          "name": "stdout"
        },
        {
          "output_type": "execute_result",
          "data": {
            "text/plain": [
              "<tensorflow.python.keras.callbacks.History at 0x7f52d2d7c210>"
            ]
          },
          "metadata": {
            "tags": []
          },
          "execution_count": 21
        }
      ]
    },
    {
      "cell_type": "markdown",
      "metadata": {
        "id": "Q0t3CPIkwvBo"
      },
      "source": [
        "Dentro de la función *fit(),* un parámetro que llama la atención es el de *batch_size.* Para entender cómo funciona, primero tenemos que comprender que, por cada época, los datos que constituyen el conjunto de entrenamiento se divide en múltiples lotes, donde cada lote contiene la misma cantidad de datos. Durante el entrenamiento, y por cada época, la red neuronal es alimentada por todos los lotes en los que se distribuyen los datos. Esta división del conjunto de entrenamiento en varios lotes, se realiza principalmente para optimizar el proceso de actualización de los pesos y evitar cargar en memoria una cantidad excesiva de información durante cada época.<br>\n",
        "Considerando lo anterior, el valor del parámetro *batch_size* indica el número de datos que contendrá cada lote. "
      ]
    },
    {
      "cell_type": "markdown",
      "metadata": {
        "id": "SHfPrP-WzDyZ"
      },
      "source": [
        "Una vez que el modelo ha sido entrenado, es tiempo de evaluar su desempeño en el conjunto de prueba."
      ]
    },
    {
      "cell_type": "code",
      "metadata": {
        "id": "5Hz__XtYzDSU",
        "colab": {
          "base_uri": "https://localhost:8080/"
        },
        "outputId": "f332831c-a8b2-4ea4-fa98-6c1245942523"
      },
      "source": [
        "test_loss, test_acc = network.evaluate(test_images, test_labels)"
      ],
      "execution_count": null,
      "outputs": [
        {
          "output_type": "stream",
          "text": [
            "313/313 [==============================] - 1s 2ms/step - loss: 0.0721 - accuracy: 0.9805\n"
          ],
          "name": "stdout"
        }
      ]
    },
    {
      "cell_type": "code",
      "metadata": {
        "id": "PZm5tN3LzOch",
        "colab": {
          "base_uri": "https://localhost:8080/"
        },
        "outputId": "9e5f356d-3fd9-42cd-ecde-3526825f48de"
      },
      "source": [
        "print('test_acc:', test_acc)\n",
        "print('test_loss:', test_loss)"
      ],
      "execution_count": null,
      "outputs": [
        {
          "output_type": "stream",
          "text": [
            "test_acc: 0.9804999828338623\n",
            "test_loss: 0.07206108421087265\n"
          ],
          "name": "stdout"
        }
      ]
    },
    {
      "cell_type": "code",
      "metadata": {
        "id": "gGqcoO9KTuZS"
      },
      "source": [
        "#Predecimos la clase de todos los dígitos del conjunto de prueba\n",
        "predictions = network.predict(test_images)"
      ],
      "execution_count": null,
      "outputs": []
    },
    {
      "cell_type": "code",
      "metadata": {
        "id": "yp-Ry4svWQVK"
      },
      "source": [
        "#Para un análisis más sutil, revisamos la predicción realizada sobre un dígito en particular\n",
        "predictions[0]"
      ],
      "execution_count": null,
      "outputs": []
    },
    {
      "cell_type": "code",
      "metadata": {
        "colab": {
          "base_uri": "https://localhost:8080/"
        },
        "id": "csC7OT6hV7BQ",
        "outputId": "6c169cae-ebc9-456d-c166-2d71b1d45b42"
      },
      "source": [
        "#Siendo aún más específicos, podemos obtener la clase que fue predecida para el dígito en cuestión\n",
        "np.argmax(predictions[0])"
      ],
      "execution_count": null,
      "outputs": [
        {
          "output_type": "execute_result",
          "data": {
            "text/plain": [
              "7"
            ]
          },
          "metadata": {
            "tags": []
          },
          "execution_count": 39
        }
      ]
    },
    {
      "cell_type": "code",
      "metadata": {
        "colab": {
          "base_uri": "https://localhost:8080/"
        },
        "id": "4IzGSpFTWbTQ",
        "outputId": "afa39577-b86f-4fb7-c5a6-18a7b146949a"
      },
      "source": [
        "#Para corroborar la precisión de la predicción, podemos comparar el resultado obtenido con el resultado esperado.\n",
        "np.argmax(test_labels[0])"
      ],
      "execution_count": null,
      "outputs": [
        {
          "output_type": "execute_result",
          "data": {
            "text/plain": [
              "7"
            ]
          },
          "metadata": {
            "tags": []
          },
          "execution_count": 41
        }
      ]
    }
  ]
}