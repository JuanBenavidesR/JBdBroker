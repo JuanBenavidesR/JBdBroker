{
  "nbformat": 4,
  "nbformat_minor": 0,
  "metadata": {
    "colab": {
      "name": "G3_Week2_Breast_Cancer.ipynb",
      "provenance": [],
      "collapsed_sections": [],
      "include_colab_link": true
    },
    "kernelspec": {
      "name": "python3",
      "display_name": "Python 3"
    }
  },
  "cells": [
    {
      "cell_type": "markdown",
      "metadata": {
        "id": "view-in-github",
        "colab_type": "text"
      },
      "source": [
        "<a href=\"https://colab.research.google.com/github/JuanBenavidesR/JBdBroker/blob/master/G3_Week2_Breast_Cancer.ipynb\" target=\"_parent\"><img src=\"https://colab.research.google.com/assets/colab-badge.svg\" alt=\"Open In Colab\"/></a>"
      ]
    },
    {
      "cell_type": "markdown",
      "metadata": {
        "id": "Z3-rWwlPg1W7"
      },
      "source": [
        "# **Breast Cancer Wisconsin Dataset**"
      ]
    },
    {
      "cell_type": "markdown",
      "metadata": {
        "id": "mhTtgYqpg8Ng"
      },
      "source": [
        "En este ejemplo, trabajaremos con la base de datos Breast Cancer Wisconsin Dataset, la cual contiene 569 instancias que representan tumores benignos y malignos. La primera columa de la base de datos, almacena el ID de cada instancia, mientras que la segunda columna almacena la etiqueta de dicha instancia, donde esta etiqueta corresponde al diagnóstico (M=Maligno, B=Beningno). Las columnas 3-32 registran los valores númericos que se relacionan con las características del núcleo celular, tales como el radio, perímetro, concavidad, entre otros."
      ]
    },
    {
      "cell_type": "code",
      "metadata": {
        "id": "DPhrvOKbjJDG"
      },
      "source": [
        "import pandas as pd\n",
        "import matplotlib.pyplot as plt\n",
        "import seaborn as sns\n",
        "\n",
        "data = pd.read_csv('https://archive.ics.uci.edu/ml/'\n",
        "                 'machine-learning-databases'\n",
        "                 '/breast-cancer-wisconsin/wdbc.data', header=None)"
      ],
      "execution_count": null,
      "outputs": []
    },
    {
      "cell_type": "code",
      "metadata": {
        "id": "1NNFC3GYjfkk",
        "colab": {
          "base_uri": "https://localhost:8080/",
          "height": 224
        },
        "outputId": "cc076add-badd-4623-8755-5ebfa0d7cf02"
      },
      "source": [
        "data.tail()"
      ],
      "execution_count": null,
      "outputs": [
        {
          "output_type": "execute_result",
          "data": {
            "text/html": [
              "<div>\n",
              "<style scoped>\n",
              "    .dataframe tbody tr th:only-of-type {\n",
              "        vertical-align: middle;\n",
              "    }\n",
              "\n",
              "    .dataframe tbody tr th {\n",
              "        vertical-align: top;\n",
              "    }\n",
              "\n",
              "    .dataframe thead th {\n",
              "        text-align: right;\n",
              "    }\n",
              "</style>\n",
              "<table border=\"1\" class=\"dataframe\">\n",
              "  <thead>\n",
              "    <tr style=\"text-align: right;\">\n",
              "      <th></th>\n",
              "      <th>0</th>\n",
              "      <th>1</th>\n",
              "      <th>2</th>\n",
              "      <th>3</th>\n",
              "      <th>4</th>\n",
              "      <th>5</th>\n",
              "      <th>6</th>\n",
              "      <th>7</th>\n",
              "      <th>8</th>\n",
              "      <th>9</th>\n",
              "      <th>10</th>\n",
              "      <th>11</th>\n",
              "      <th>12</th>\n",
              "      <th>13</th>\n",
              "      <th>14</th>\n",
              "      <th>15</th>\n",
              "      <th>16</th>\n",
              "      <th>17</th>\n",
              "      <th>18</th>\n",
              "      <th>19</th>\n",
              "      <th>20</th>\n",
              "      <th>21</th>\n",
              "      <th>22</th>\n",
              "      <th>23</th>\n",
              "      <th>24</th>\n",
              "      <th>25</th>\n",
              "      <th>26</th>\n",
              "      <th>27</th>\n",
              "      <th>28</th>\n",
              "      <th>29</th>\n",
              "      <th>30</th>\n",
              "      <th>31</th>\n",
              "    </tr>\n",
              "  </thead>\n",
              "  <tbody>\n",
              "    <tr>\n",
              "      <th>564</th>\n",
              "      <td>926424</td>\n",
              "      <td>M</td>\n",
              "      <td>21.56</td>\n",
              "      <td>22.39</td>\n",
              "      <td>142.00</td>\n",
              "      <td>1479.0</td>\n",
              "      <td>0.11100</td>\n",
              "      <td>0.11590</td>\n",
              "      <td>0.24390</td>\n",
              "      <td>0.13890</td>\n",
              "      <td>0.1726</td>\n",
              "      <td>0.05623</td>\n",
              "      <td>1.1760</td>\n",
              "      <td>1.256</td>\n",
              "      <td>7.673</td>\n",
              "      <td>158.70</td>\n",
              "      <td>0.010300</td>\n",
              "      <td>0.02891</td>\n",
              "      <td>0.05198</td>\n",
              "      <td>0.02454</td>\n",
              "      <td>0.01114</td>\n",
              "      <td>0.004239</td>\n",
              "      <td>25.450</td>\n",
              "      <td>26.40</td>\n",
              "      <td>166.10</td>\n",
              "      <td>2027.0</td>\n",
              "      <td>0.14100</td>\n",
              "      <td>0.21130</td>\n",
              "      <td>0.4107</td>\n",
              "      <td>0.2216</td>\n",
              "      <td>0.2060</td>\n",
              "      <td>0.07115</td>\n",
              "    </tr>\n",
              "    <tr>\n",
              "      <th>565</th>\n",
              "      <td>926682</td>\n",
              "      <td>M</td>\n",
              "      <td>20.13</td>\n",
              "      <td>28.25</td>\n",
              "      <td>131.20</td>\n",
              "      <td>1261.0</td>\n",
              "      <td>0.09780</td>\n",
              "      <td>0.10340</td>\n",
              "      <td>0.14400</td>\n",
              "      <td>0.09791</td>\n",
              "      <td>0.1752</td>\n",
              "      <td>0.05533</td>\n",
              "      <td>0.7655</td>\n",
              "      <td>2.463</td>\n",
              "      <td>5.203</td>\n",
              "      <td>99.04</td>\n",
              "      <td>0.005769</td>\n",
              "      <td>0.02423</td>\n",
              "      <td>0.03950</td>\n",
              "      <td>0.01678</td>\n",
              "      <td>0.01898</td>\n",
              "      <td>0.002498</td>\n",
              "      <td>23.690</td>\n",
              "      <td>38.25</td>\n",
              "      <td>155.00</td>\n",
              "      <td>1731.0</td>\n",
              "      <td>0.11660</td>\n",
              "      <td>0.19220</td>\n",
              "      <td>0.3215</td>\n",
              "      <td>0.1628</td>\n",
              "      <td>0.2572</td>\n",
              "      <td>0.06637</td>\n",
              "    </tr>\n",
              "    <tr>\n",
              "      <th>566</th>\n",
              "      <td>926954</td>\n",
              "      <td>M</td>\n",
              "      <td>16.60</td>\n",
              "      <td>28.08</td>\n",
              "      <td>108.30</td>\n",
              "      <td>858.1</td>\n",
              "      <td>0.08455</td>\n",
              "      <td>0.10230</td>\n",
              "      <td>0.09251</td>\n",
              "      <td>0.05302</td>\n",
              "      <td>0.1590</td>\n",
              "      <td>0.05648</td>\n",
              "      <td>0.4564</td>\n",
              "      <td>1.075</td>\n",
              "      <td>3.425</td>\n",
              "      <td>48.55</td>\n",
              "      <td>0.005903</td>\n",
              "      <td>0.03731</td>\n",
              "      <td>0.04730</td>\n",
              "      <td>0.01557</td>\n",
              "      <td>0.01318</td>\n",
              "      <td>0.003892</td>\n",
              "      <td>18.980</td>\n",
              "      <td>34.12</td>\n",
              "      <td>126.70</td>\n",
              "      <td>1124.0</td>\n",
              "      <td>0.11390</td>\n",
              "      <td>0.30940</td>\n",
              "      <td>0.3403</td>\n",
              "      <td>0.1418</td>\n",
              "      <td>0.2218</td>\n",
              "      <td>0.07820</td>\n",
              "    </tr>\n",
              "    <tr>\n",
              "      <th>567</th>\n",
              "      <td>927241</td>\n",
              "      <td>M</td>\n",
              "      <td>20.60</td>\n",
              "      <td>29.33</td>\n",
              "      <td>140.10</td>\n",
              "      <td>1265.0</td>\n",
              "      <td>0.11780</td>\n",
              "      <td>0.27700</td>\n",
              "      <td>0.35140</td>\n",
              "      <td>0.15200</td>\n",
              "      <td>0.2397</td>\n",
              "      <td>0.07016</td>\n",
              "      <td>0.7260</td>\n",
              "      <td>1.595</td>\n",
              "      <td>5.772</td>\n",
              "      <td>86.22</td>\n",
              "      <td>0.006522</td>\n",
              "      <td>0.06158</td>\n",
              "      <td>0.07117</td>\n",
              "      <td>0.01664</td>\n",
              "      <td>0.02324</td>\n",
              "      <td>0.006185</td>\n",
              "      <td>25.740</td>\n",
              "      <td>39.42</td>\n",
              "      <td>184.60</td>\n",
              "      <td>1821.0</td>\n",
              "      <td>0.16500</td>\n",
              "      <td>0.86810</td>\n",
              "      <td>0.9387</td>\n",
              "      <td>0.2650</td>\n",
              "      <td>0.4087</td>\n",
              "      <td>0.12400</td>\n",
              "    </tr>\n",
              "    <tr>\n",
              "      <th>568</th>\n",
              "      <td>92751</td>\n",
              "      <td>B</td>\n",
              "      <td>7.76</td>\n",
              "      <td>24.54</td>\n",
              "      <td>47.92</td>\n",
              "      <td>181.0</td>\n",
              "      <td>0.05263</td>\n",
              "      <td>0.04362</td>\n",
              "      <td>0.00000</td>\n",
              "      <td>0.00000</td>\n",
              "      <td>0.1587</td>\n",
              "      <td>0.05884</td>\n",
              "      <td>0.3857</td>\n",
              "      <td>1.428</td>\n",
              "      <td>2.548</td>\n",
              "      <td>19.15</td>\n",
              "      <td>0.007189</td>\n",
              "      <td>0.00466</td>\n",
              "      <td>0.00000</td>\n",
              "      <td>0.00000</td>\n",
              "      <td>0.02676</td>\n",
              "      <td>0.002783</td>\n",
              "      <td>9.456</td>\n",
              "      <td>30.37</td>\n",
              "      <td>59.16</td>\n",
              "      <td>268.6</td>\n",
              "      <td>0.08996</td>\n",
              "      <td>0.06444</td>\n",
              "      <td>0.0000</td>\n",
              "      <td>0.0000</td>\n",
              "      <td>0.2871</td>\n",
              "      <td>0.07039</td>\n",
              "    </tr>\n",
              "  </tbody>\n",
              "</table>\n",
              "</div>"
            ],
            "text/plain": [
              "         0  1      2      3       4   ...       27      28      29      30       31\n",
              "564  926424  M  21.56  22.39  142.00  ...  0.21130  0.4107  0.2216  0.2060  0.07115\n",
              "565  926682  M  20.13  28.25  131.20  ...  0.19220  0.3215  0.1628  0.2572  0.06637\n",
              "566  926954  M  16.60  28.08  108.30  ...  0.30940  0.3403  0.1418  0.2218  0.07820\n",
              "567  927241  M  20.60  29.33  140.10  ...  0.86810  0.9387  0.2650  0.4087  0.12400\n",
              "568   92751  B   7.76  24.54   47.92  ...  0.06444  0.0000  0.0000  0.2871  0.07039\n",
              "\n",
              "[5 rows x 32 columns]"
            ]
          },
          "metadata": {
            "tags": []
          },
          "execution_count": 2
        }
      ]
    },
    {
      "cell_type": "code",
      "metadata": {
        "id": "0ApdKEJTjiIn",
        "colab": {
          "base_uri": "https://localhost:8080/",
          "height": 224
        },
        "outputId": "4b5f173b-b4d4-4c34-afd7-e1bcda36e8e6"
      },
      "source": [
        "data.head()"
      ],
      "execution_count": null,
      "outputs": [
        {
          "output_type": "execute_result",
          "data": {
            "text/html": [
              "<div>\n",
              "<style scoped>\n",
              "    .dataframe tbody tr th:only-of-type {\n",
              "        vertical-align: middle;\n",
              "    }\n",
              "\n",
              "    .dataframe tbody tr th {\n",
              "        vertical-align: top;\n",
              "    }\n",
              "\n",
              "    .dataframe thead th {\n",
              "        text-align: right;\n",
              "    }\n",
              "</style>\n",
              "<table border=\"1\" class=\"dataframe\">\n",
              "  <thead>\n",
              "    <tr style=\"text-align: right;\">\n",
              "      <th></th>\n",
              "      <th>0</th>\n",
              "      <th>1</th>\n",
              "      <th>2</th>\n",
              "      <th>3</th>\n",
              "      <th>4</th>\n",
              "      <th>5</th>\n",
              "      <th>6</th>\n",
              "      <th>7</th>\n",
              "      <th>8</th>\n",
              "      <th>9</th>\n",
              "      <th>10</th>\n",
              "      <th>11</th>\n",
              "      <th>12</th>\n",
              "      <th>13</th>\n",
              "      <th>14</th>\n",
              "      <th>15</th>\n",
              "      <th>16</th>\n",
              "      <th>17</th>\n",
              "      <th>18</th>\n",
              "      <th>19</th>\n",
              "      <th>20</th>\n",
              "      <th>21</th>\n",
              "      <th>22</th>\n",
              "      <th>23</th>\n",
              "      <th>24</th>\n",
              "      <th>25</th>\n",
              "      <th>26</th>\n",
              "      <th>27</th>\n",
              "      <th>28</th>\n",
              "      <th>29</th>\n",
              "      <th>30</th>\n",
              "      <th>31</th>\n",
              "    </tr>\n",
              "  </thead>\n",
              "  <tbody>\n",
              "    <tr>\n",
              "      <th>0</th>\n",
              "      <td>842302</td>\n",
              "      <td>M</td>\n",
              "      <td>17.99</td>\n",
              "      <td>10.38</td>\n",
              "      <td>122.80</td>\n",
              "      <td>1001.0</td>\n",
              "      <td>0.11840</td>\n",
              "      <td>0.27760</td>\n",
              "      <td>0.3001</td>\n",
              "      <td>0.14710</td>\n",
              "      <td>0.2419</td>\n",
              "      <td>0.07871</td>\n",
              "      <td>1.0950</td>\n",
              "      <td>0.9053</td>\n",
              "      <td>8.589</td>\n",
              "      <td>153.40</td>\n",
              "      <td>0.006399</td>\n",
              "      <td>0.04904</td>\n",
              "      <td>0.05373</td>\n",
              "      <td>0.01587</td>\n",
              "      <td>0.03003</td>\n",
              "      <td>0.006193</td>\n",
              "      <td>25.38</td>\n",
              "      <td>17.33</td>\n",
              "      <td>184.60</td>\n",
              "      <td>2019.0</td>\n",
              "      <td>0.1622</td>\n",
              "      <td>0.6656</td>\n",
              "      <td>0.7119</td>\n",
              "      <td>0.2654</td>\n",
              "      <td>0.4601</td>\n",
              "      <td>0.11890</td>\n",
              "    </tr>\n",
              "    <tr>\n",
              "      <th>1</th>\n",
              "      <td>842517</td>\n",
              "      <td>M</td>\n",
              "      <td>20.57</td>\n",
              "      <td>17.77</td>\n",
              "      <td>132.90</td>\n",
              "      <td>1326.0</td>\n",
              "      <td>0.08474</td>\n",
              "      <td>0.07864</td>\n",
              "      <td>0.0869</td>\n",
              "      <td>0.07017</td>\n",
              "      <td>0.1812</td>\n",
              "      <td>0.05667</td>\n",
              "      <td>0.5435</td>\n",
              "      <td>0.7339</td>\n",
              "      <td>3.398</td>\n",
              "      <td>74.08</td>\n",
              "      <td>0.005225</td>\n",
              "      <td>0.01308</td>\n",
              "      <td>0.01860</td>\n",
              "      <td>0.01340</td>\n",
              "      <td>0.01389</td>\n",
              "      <td>0.003532</td>\n",
              "      <td>24.99</td>\n",
              "      <td>23.41</td>\n",
              "      <td>158.80</td>\n",
              "      <td>1956.0</td>\n",
              "      <td>0.1238</td>\n",
              "      <td>0.1866</td>\n",
              "      <td>0.2416</td>\n",
              "      <td>0.1860</td>\n",
              "      <td>0.2750</td>\n",
              "      <td>0.08902</td>\n",
              "    </tr>\n",
              "    <tr>\n",
              "      <th>2</th>\n",
              "      <td>84300903</td>\n",
              "      <td>M</td>\n",
              "      <td>19.69</td>\n",
              "      <td>21.25</td>\n",
              "      <td>130.00</td>\n",
              "      <td>1203.0</td>\n",
              "      <td>0.10960</td>\n",
              "      <td>0.15990</td>\n",
              "      <td>0.1974</td>\n",
              "      <td>0.12790</td>\n",
              "      <td>0.2069</td>\n",
              "      <td>0.05999</td>\n",
              "      <td>0.7456</td>\n",
              "      <td>0.7869</td>\n",
              "      <td>4.585</td>\n",
              "      <td>94.03</td>\n",
              "      <td>0.006150</td>\n",
              "      <td>0.04006</td>\n",
              "      <td>0.03832</td>\n",
              "      <td>0.02058</td>\n",
              "      <td>0.02250</td>\n",
              "      <td>0.004571</td>\n",
              "      <td>23.57</td>\n",
              "      <td>25.53</td>\n",
              "      <td>152.50</td>\n",
              "      <td>1709.0</td>\n",
              "      <td>0.1444</td>\n",
              "      <td>0.4245</td>\n",
              "      <td>0.4504</td>\n",
              "      <td>0.2430</td>\n",
              "      <td>0.3613</td>\n",
              "      <td>0.08758</td>\n",
              "    </tr>\n",
              "    <tr>\n",
              "      <th>3</th>\n",
              "      <td>84348301</td>\n",
              "      <td>M</td>\n",
              "      <td>11.42</td>\n",
              "      <td>20.38</td>\n",
              "      <td>77.58</td>\n",
              "      <td>386.1</td>\n",
              "      <td>0.14250</td>\n",
              "      <td>0.28390</td>\n",
              "      <td>0.2414</td>\n",
              "      <td>0.10520</td>\n",
              "      <td>0.2597</td>\n",
              "      <td>0.09744</td>\n",
              "      <td>0.4956</td>\n",
              "      <td>1.1560</td>\n",
              "      <td>3.445</td>\n",
              "      <td>27.23</td>\n",
              "      <td>0.009110</td>\n",
              "      <td>0.07458</td>\n",
              "      <td>0.05661</td>\n",
              "      <td>0.01867</td>\n",
              "      <td>0.05963</td>\n",
              "      <td>0.009208</td>\n",
              "      <td>14.91</td>\n",
              "      <td>26.50</td>\n",
              "      <td>98.87</td>\n",
              "      <td>567.7</td>\n",
              "      <td>0.2098</td>\n",
              "      <td>0.8663</td>\n",
              "      <td>0.6869</td>\n",
              "      <td>0.2575</td>\n",
              "      <td>0.6638</td>\n",
              "      <td>0.17300</td>\n",
              "    </tr>\n",
              "    <tr>\n",
              "      <th>4</th>\n",
              "      <td>84358402</td>\n",
              "      <td>M</td>\n",
              "      <td>20.29</td>\n",
              "      <td>14.34</td>\n",
              "      <td>135.10</td>\n",
              "      <td>1297.0</td>\n",
              "      <td>0.10030</td>\n",
              "      <td>0.13280</td>\n",
              "      <td>0.1980</td>\n",
              "      <td>0.10430</td>\n",
              "      <td>0.1809</td>\n",
              "      <td>0.05883</td>\n",
              "      <td>0.7572</td>\n",
              "      <td>0.7813</td>\n",
              "      <td>5.438</td>\n",
              "      <td>94.44</td>\n",
              "      <td>0.011490</td>\n",
              "      <td>0.02461</td>\n",
              "      <td>0.05688</td>\n",
              "      <td>0.01885</td>\n",
              "      <td>0.01756</td>\n",
              "      <td>0.005115</td>\n",
              "      <td>22.54</td>\n",
              "      <td>16.67</td>\n",
              "      <td>152.20</td>\n",
              "      <td>1575.0</td>\n",
              "      <td>0.1374</td>\n",
              "      <td>0.2050</td>\n",
              "      <td>0.4000</td>\n",
              "      <td>0.1625</td>\n",
              "      <td>0.2364</td>\n",
              "      <td>0.07678</td>\n",
              "    </tr>\n",
              "  </tbody>\n",
              "</table>\n",
              "</div>"
            ],
            "text/plain": [
              "         0  1      2      3       4   ...      27      28      29      30       31\n",
              "0    842302  M  17.99  10.38  122.80  ...  0.6656  0.7119  0.2654  0.4601  0.11890\n",
              "1    842517  M  20.57  17.77  132.90  ...  0.1866  0.2416  0.1860  0.2750  0.08902\n",
              "2  84300903  M  19.69  21.25  130.00  ...  0.4245  0.4504  0.2430  0.3613  0.08758\n",
              "3  84348301  M  11.42  20.38   77.58  ...  0.8663  0.6869  0.2575  0.6638  0.17300\n",
              "4  84358402  M  20.29  14.34  135.10  ...  0.2050  0.4000  0.1625  0.2364  0.07678\n",
              "\n",
              "[5 rows x 32 columns]"
            ]
          },
          "metadata": {
            "tags": []
          },
          "execution_count": 3
        }
      ]
    },
    {
      "cell_type": "code",
      "metadata": {
        "id": "5OebUUu6jjiv",
        "colab": {
          "base_uri": "https://localhost:8080/"
        },
        "outputId": "66f653dd-6d13-494f-b0d1-b8652b00d2b1"
      },
      "source": [
        "data.shape"
      ],
      "execution_count": null,
      "outputs": [
        {
          "output_type": "execute_result",
          "data": {
            "text/plain": [
              "(569, 32)"
            ]
          },
          "metadata": {
            "tags": []
          },
          "execution_count": 4
        }
      ]
    },
    {
      "cell_type": "markdown",
      "metadata": {
        "id": "bIWC_LtskIZm"
      },
      "source": [
        "Procedemos a extraer los atributos de cada instancia y sus etiquetas correspondientes. Así mismo, hacemos que las etiquetas, originalmente codificadas como caracteres, se conviertan en enteros."
      ]
    },
    {
      "cell_type": "code",
      "metadata": {
        "id": "wHSS4ENukFoB",
        "colab": {
          "base_uri": "https://localhost:8080/"
        },
        "outputId": "5a485db5-5eca-4c4e-a510-73a6a76e60a8"
      },
      "source": [
        "dataset = data.loc[:, 2:].values\n",
        "labels = data.loc[:, 1].values\n",
        "print(labels)"
      ],
      "execution_count": null,
      "outputs": [
        {
          "output_type": "stream",
          "text": [
            "['M' 'M' 'M' 'M' 'M' 'M' 'M' 'M' 'M' 'M' 'M' 'M' 'M' 'M' 'M' 'M' 'M' 'M'\n",
            " 'M' 'B' 'B' 'B' 'M' 'M' 'M' 'M' 'M' 'M' 'M' 'M' 'M' 'M' 'M' 'M' 'M' 'M'\n",
            " 'M' 'B' 'M' 'M' 'M' 'M' 'M' 'M' 'M' 'M' 'B' 'M' 'B' 'B' 'B' 'B' 'B' 'M'\n",
            " 'M' 'B' 'M' 'M' 'B' 'B' 'B' 'B' 'M' 'B' 'M' 'M' 'B' 'B' 'B' 'B' 'M' 'B'\n",
            " 'M' 'M' 'B' 'M' 'B' 'M' 'M' 'B' 'B' 'B' 'M' 'M' 'B' 'M' 'M' 'M' 'B' 'B'\n",
            " 'B' 'M' 'B' 'B' 'M' 'M' 'B' 'B' 'B' 'M' 'M' 'B' 'B' 'B' 'B' 'M' 'B' 'B'\n",
            " 'M' 'B' 'B' 'B' 'B' 'B' 'B' 'B' 'B' 'M' 'M' 'M' 'B' 'M' 'M' 'B' 'B' 'B'\n",
            " 'M' 'M' 'B' 'M' 'B' 'M' 'M' 'B' 'M' 'M' 'B' 'B' 'M' 'B' 'B' 'M' 'B' 'B'\n",
            " 'B' 'B' 'M' 'B' 'B' 'B' 'B' 'B' 'B' 'B' 'B' 'B' 'M' 'B' 'B' 'B' 'B' 'M'\n",
            " 'M' 'B' 'M' 'B' 'B' 'M' 'M' 'B' 'B' 'M' 'M' 'B' 'B' 'B' 'B' 'M' 'B' 'B'\n",
            " 'M' 'M' 'M' 'B' 'M' 'B' 'M' 'B' 'B' 'B' 'M' 'B' 'B' 'M' 'M' 'B' 'M' 'M'\n",
            " 'M' 'M' 'B' 'M' 'M' 'M' 'B' 'M' 'B' 'M' 'B' 'B' 'M' 'B' 'M' 'M' 'M' 'M'\n",
            " 'B' 'B' 'M' 'M' 'B' 'B' 'B' 'M' 'B' 'B' 'B' 'B' 'B' 'M' 'M' 'B' 'B' 'M'\n",
            " 'B' 'B' 'M' 'M' 'B' 'M' 'B' 'B' 'B' 'B' 'M' 'B' 'B' 'B' 'B' 'B' 'M' 'B'\n",
            " 'M' 'M' 'M' 'M' 'M' 'M' 'M' 'M' 'M' 'M' 'M' 'M' 'M' 'M' 'B' 'B' 'B' 'B'\n",
            " 'B' 'B' 'M' 'B' 'M' 'B' 'B' 'M' 'B' 'B' 'M' 'B' 'M' 'M' 'B' 'B' 'B' 'B'\n",
            " 'B' 'B' 'B' 'B' 'B' 'B' 'B' 'B' 'B' 'M' 'B' 'B' 'M' 'B' 'M' 'B' 'B' 'B'\n",
            " 'B' 'B' 'B' 'B' 'B' 'B' 'B' 'B' 'B' 'B' 'B' 'M' 'B' 'B' 'B' 'M' 'B' 'M'\n",
            " 'B' 'B' 'B' 'B' 'M' 'M' 'M' 'B' 'B' 'B' 'B' 'M' 'B' 'M' 'B' 'M' 'B' 'B'\n",
            " 'B' 'M' 'B' 'B' 'B' 'B' 'B' 'B' 'B' 'M' 'M' 'M' 'B' 'B' 'B' 'B' 'B' 'B'\n",
            " 'B' 'B' 'B' 'B' 'B' 'M' 'M' 'B' 'M' 'M' 'M' 'B' 'M' 'M' 'B' 'B' 'B' 'B'\n",
            " 'B' 'M' 'B' 'B' 'B' 'B' 'B' 'M' 'B' 'B' 'B' 'M' 'B' 'B' 'M' 'M' 'B' 'B'\n",
            " 'B' 'B' 'B' 'B' 'M' 'B' 'B' 'B' 'B' 'B' 'B' 'B' 'M' 'B' 'B' 'B' 'B' 'B'\n",
            " 'M' 'B' 'B' 'M' 'B' 'B' 'B' 'B' 'B' 'B' 'B' 'B' 'B' 'B' 'B' 'B' 'M' 'B'\n",
            " 'M' 'M' 'B' 'M' 'B' 'B' 'B' 'B' 'B' 'M' 'B' 'B' 'M' 'B' 'M' 'B' 'B' 'M'\n",
            " 'B' 'M' 'B' 'B' 'B' 'B' 'B' 'B' 'B' 'B' 'M' 'M' 'B' 'B' 'B' 'B' 'B' 'B'\n",
            " 'M' 'B' 'B' 'B' 'B' 'B' 'B' 'B' 'B' 'B' 'B' 'M' 'B' 'B' 'B' 'B' 'B' 'B'\n",
            " 'B' 'M' 'B' 'M' 'B' 'B' 'M' 'B' 'B' 'B' 'B' 'B' 'M' 'M' 'B' 'M' 'B' 'M'\n",
            " 'B' 'B' 'B' 'B' 'B' 'M' 'B' 'B' 'M' 'B' 'M' 'B' 'M' 'M' 'B' 'B' 'B' 'M'\n",
            " 'B' 'B' 'B' 'B' 'B' 'B' 'B' 'B' 'B' 'B' 'B' 'M' 'B' 'M' 'M' 'B' 'B' 'B'\n",
            " 'B' 'B' 'B' 'B' 'B' 'B' 'B' 'B' 'B' 'B' 'B' 'B' 'B' 'B' 'B' 'B' 'B' 'B'\n",
            " 'B' 'B' 'B' 'B' 'M' 'M' 'M' 'M' 'M' 'M' 'B']\n"
          ],
          "name": "stdout"
        }
      ]
    },
    {
      "cell_type": "code",
      "metadata": {
        "colab": {
          "base_uri": "https://localhost:8080/"
        },
        "id": "ZA4MmchOJWoj",
        "outputId": "d68ebe5c-40fc-4a66-91e0-492945f916ad"
      },
      "source": [
        "dataset[0]"
      ],
      "execution_count": null,
      "outputs": [
        {
          "output_type": "execute_result",
          "data": {
            "text/plain": [
              "array([1.799e+01, 1.038e+01, 1.228e+02, 1.001e+03, 1.184e-01, 2.776e-01,\n",
              "       3.001e-01, 1.471e-01, 2.419e-01, 7.871e-02, 1.095e+00, 9.053e-01,\n",
              "       8.589e+00, 1.534e+02, 6.399e-03, 4.904e-02, 5.373e-02, 1.587e-02,\n",
              "       3.003e-02, 6.193e-03, 2.538e+01, 1.733e+01, 1.846e+02, 2.019e+03,\n",
              "       1.622e-01, 6.656e-01, 7.119e-01, 2.654e-01, 4.601e-01, 1.189e-01])"
            ]
          },
          "metadata": {
            "tags": []
          },
          "execution_count": 6
        }
      ]
    },
    {
      "cell_type": "code",
      "metadata": {
        "id": "kulIHjHmo58x",
        "colab": {
          "base_uri": "https://localhost:8080/"
        },
        "outputId": "9e056b60-de4d-454c-9bbe-d168985dac30"
      },
      "source": [
        "dataset.shape"
      ],
      "execution_count": null,
      "outputs": [
        {
          "output_type": "execute_result",
          "data": {
            "text/plain": [
              "(569, 30)"
            ]
          },
          "metadata": {
            "tags": []
          },
          "execution_count": 7
        }
      ]
    },
    {
      "cell_type": "code",
      "metadata": {
        "id": "Th9XjIjWsqPo"
      },
      "source": [
        "from sklearn.preprocessing import LabelEncoder\n",
        "#Transformamos las etiquetas de caracter a enteros\n",
        "encoder = LabelEncoder()\n",
        "labels = encoder.fit_transform(labels)"
      ],
      "execution_count": null,
      "outputs": []
    },
    {
      "cell_type": "code",
      "metadata": {
        "id": "c9vbMVQktNEY",
        "colab": {
          "base_uri": "https://localhost:8080/"
        },
        "outputId": "16ca7734-69c3-42e5-d1ff-636fa57ed7a2"
      },
      "source": [
        "labels"
      ],
      "execution_count": null,
      "outputs": [
        {
          "output_type": "execute_result",
          "data": {
            "text/plain": [
              "array([1, 1, 1, 1, 1, 1, 1, 1, 1, 1, 1, 1, 1, 1, 1, 1, 1, 1, 1, 0, 0, 0,\n",
              "       1, 1, 1, 1, 1, 1, 1, 1, 1, 1, 1, 1, 1, 1, 1, 0, 1, 1, 1, 1, 1, 1,\n",
              "       1, 1, 0, 1, 0, 0, 0, 0, 0, 1, 1, 0, 1, 1, 0, 0, 0, 0, 1, 0, 1, 1,\n",
              "       0, 0, 0, 0, 1, 0, 1, 1, 0, 1, 0, 1, 1, 0, 0, 0, 1, 1, 0, 1, 1, 1,\n",
              "       0, 0, 0, 1, 0, 0, 1, 1, 0, 0, 0, 1, 1, 0, 0, 0, 0, 1, 0, 0, 1, 0,\n",
              "       0, 0, 0, 0, 0, 0, 0, 1, 1, 1, 0, 1, 1, 0, 0, 0, 1, 1, 0, 1, 0, 1,\n",
              "       1, 0, 1, 1, 0, 0, 1, 0, 0, 1, 0, 0, 0, 0, 1, 0, 0, 0, 0, 0, 0, 0,\n",
              "       0, 0, 1, 0, 0, 0, 0, 1, 1, 0, 1, 0, 0, 1, 1, 0, 0, 1, 1, 0, 0, 0,\n",
              "       0, 1, 0, 0, 1, 1, 1, 0, 1, 0, 1, 0, 0, 0, 1, 0, 0, 1, 1, 0, 1, 1,\n",
              "       1, 1, 0, 1, 1, 1, 0, 1, 0, 1, 0, 0, 1, 0, 1, 1, 1, 1, 0, 0, 1, 1,\n",
              "       0, 0, 0, 1, 0, 0, 0, 0, 0, 1, 1, 0, 0, 1, 0, 0, 1, 1, 0, 1, 0, 0,\n",
              "       0, 0, 1, 0, 0, 0, 0, 0, 1, 0, 1, 1, 1, 1, 1, 1, 1, 1, 1, 1, 1, 1,\n",
              "       1, 1, 0, 0, 0, 0, 0, 0, 1, 0, 1, 0, 0, 1, 0, 0, 1, 0, 1, 1, 0, 0,\n",
              "       0, 0, 0, 0, 0, 0, 0, 0, 0, 0, 0, 1, 0, 0, 1, 0, 1, 0, 0, 0, 0, 0,\n",
              "       0, 0, 0, 0, 0, 0, 0, 0, 0, 1, 0, 0, 0, 1, 0, 1, 0, 0, 0, 0, 1, 1,\n",
              "       1, 0, 0, 0, 0, 1, 0, 1, 0, 1, 0, 0, 0, 1, 0, 0, 0, 0, 0, 0, 0, 1,\n",
              "       1, 1, 0, 0, 0, 0, 0, 0, 0, 0, 0, 0, 0, 1, 1, 0, 1, 1, 1, 0, 1, 1,\n",
              "       0, 0, 0, 0, 0, 1, 0, 0, 0, 0, 0, 1, 0, 0, 0, 1, 0, 0, 1, 1, 0, 0,\n",
              "       0, 0, 0, 0, 1, 0, 0, 0, 0, 0, 0, 0, 1, 0, 0, 0, 0, 0, 1, 0, 0, 1,\n",
              "       0, 0, 0, 0, 0, 0, 0, 0, 0, 0, 0, 0, 1, 0, 1, 1, 0, 1, 0, 0, 0, 0,\n",
              "       0, 1, 0, 0, 1, 0, 1, 0, 0, 1, 0, 1, 0, 0, 0, 0, 0, 0, 0, 0, 1, 1,\n",
              "       0, 0, 0, 0, 0, 0, 1, 0, 0, 0, 0, 0, 0, 0, 0, 0, 0, 1, 0, 0, 0, 0,\n",
              "       0, 0, 0, 1, 0, 1, 0, 0, 1, 0, 0, 0, 0, 0, 1, 1, 0, 1, 0, 1, 0, 0,\n",
              "       0, 0, 0, 1, 0, 0, 1, 0, 1, 0, 1, 1, 0, 0, 0, 1, 0, 0, 0, 0, 0, 0,\n",
              "       0, 0, 0, 0, 0, 1, 0, 1, 1, 0, 0, 0, 0, 0, 0, 0, 0, 0, 0, 0, 0, 0,\n",
              "       0, 0, 0, 0, 0, 0, 0, 0, 0, 0, 0, 0, 1, 1, 1, 1, 1, 1, 0])"
            ]
          },
          "metadata": {
            "tags": []
          },
          "execution_count": 9
        }
      ]
    },
    {
      "cell_type": "markdown",
      "metadata": {
        "id": "SNT-edDKks2f"
      },
      "source": [
        "Podemos ver como las etiquetas que originalmente estaban codificadas a partir de los caracteres \"B\" y \"M\", ahora se representan mediante valores enteros \"1\" y \"0\", respectivamente. "
      ]
    },
    {
      "cell_type": "code",
      "metadata": {
        "id": "Fcju16Xykg-f",
        "colab": {
          "base_uri": "https://localhost:8080/"
        },
        "outputId": "f525519b-b06d-4800-d1c8-541d38e40d21"
      },
      "source": [
        "encoder.classes_"
      ],
      "execution_count": null,
      "outputs": [
        {
          "output_type": "execute_result",
          "data": {
            "text/plain": [
              "array(['B', 'M'], dtype=object)"
            ]
          },
          "metadata": {
            "tags": []
          },
          "execution_count": 10
        }
      ]
    },
    {
      "cell_type": "code",
      "metadata": {
        "id": "ei3JToD4khh-",
        "colab": {
          "base_uri": "https://localhost:8080/"
        },
        "outputId": "a0fd19fb-ecc4-493d-9ca0-baabfca89643"
      },
      "source": [
        "encoder.transform(['M', 'B'])"
      ],
      "execution_count": null,
      "outputs": [
        {
          "output_type": "execute_result",
          "data": {
            "text/plain": [
              "array([1, 0])"
            ]
          },
          "metadata": {
            "tags": []
          },
          "execution_count": 11
        }
      ]
    },
    {
      "cell_type": "markdown",
      "metadata": {
        "id": "xHppTMIrlCRu"
      },
      "source": [
        "# **Partición de la base de datos**"
      ]
    },
    {
      "cell_type": "code",
      "metadata": {
        "id": "lxUV5R7flEKm"
      },
      "source": [
        "#La clase train_test_split permite realizar la partición de la base de datos en los conjuntos de entrenamiento y de prueba.\n",
        "from sklearn.model_selection import train_test_split\n",
        "\n",
        "train_data, test_data, train_labels, test_labels = train_test_split(dataset, labels, test_size=0.10, stratify=labels, random_state=1)\n",
        "#test_size es un argumento que nos permitirá especificar la proporción de instancias que serán asignadas al conjunto de prueba\n",
        "#stratify indica que los conjuntos de entrenamiento y de prueba, tienen la misma proporción de etiquetas de clase presente en la base de datos original\n",
        "#random_state hace posible que las instancias de los conjuntos sean inicializadas aleatoriamente, y al asignarle un valor fijo, nos aseguramos de poder\n",
        "#general resultados reproducibles."
      ],
      "execution_count": null,
      "outputs": []
    },
    {
      "cell_type": "markdown",
      "metadata": {
        "id": "qp8GOz7jmQVA"
      },
      "source": [
        "# **Preprocesamiento de los datos**"
      ]
    },
    {
      "cell_type": "code",
      "metadata": {
        "id": "I8R8kaxqmPoe"
      },
      "source": [
        "#Feature Scaling\n",
        "from sklearn.preprocessing import StandardScaler\n",
        "sc = StandardScaler()\n",
        "train_data_std = sc.fit_transform(train_data)\n",
        "test_data_std = sc.transform(test_data)"
      ],
      "execution_count": null,
      "outputs": []
    },
    {
      "cell_type": "code",
      "metadata": {
        "id": "7BtmLGRaScaB",
        "colab": {
          "base_uri": "https://localhost:8080/"
        },
        "outputId": "b90f7e49-d297-4bef-f912-df6459c32821"
      },
      "source": [
        "train_data_std.shape"
      ],
      "execution_count": null,
      "outputs": [
        {
          "output_type": "execute_result",
          "data": {
            "text/plain": [
              "(512, 30)"
            ]
          },
          "metadata": {
            "tags": []
          },
          "execution_count": 14
        }
      ]
    },
    {
      "cell_type": "code",
      "metadata": {
        "id": "k6E3EwHKvCEi",
        "colab": {
          "base_uri": "https://localhost:8080/"
        },
        "outputId": "b79cc85b-2fdf-44cc-a330-64050ebcff0e"
      },
      "source": [
        "test_data_std.shape"
      ],
      "execution_count": null,
      "outputs": [
        {
          "output_type": "execute_result",
          "data": {
            "text/plain": [
              "(57, 30)"
            ]
          },
          "metadata": {
            "tags": []
          },
          "execution_count": 15
        }
      ]
    },
    {
      "cell_type": "markdown",
      "metadata": {
        "id": "Mjmq_KQqmkOf"
      },
      "source": [
        "# **Construcción de la red neuronal**"
      ]
    },
    {
      "cell_type": "code",
      "metadata": {
        "id": "OrXnXI4FmmqP"
      },
      "source": [
        "from tensorflow.keras import models\n",
        "from tensorflow.keras import layers\n",
        "model = models.Sequential()\n",
        "model.add(layers.Dense(16, activation='relu', input_shape=(30,))) #Primera capa oculta\n",
        "model.add(layers.Dropout(0.1)) #Dropout permite regularizar a la red neuronal durante la etapa de entrenamiento, y se aplica sobre las neuronas de la capa anterior\n",
        "model.add(layers.Dense(16, activation='relu')) #Segunda capa oculta\n",
        "model.add(layers.Dropout(0.1))\n",
        "model.add(layers.Dense(1, activation='sigmoid'))#Capa de salida"
      ],
      "execution_count": null,
      "outputs": []
    },
    {
      "cell_type": "markdown",
      "metadata": {
        "id": "U3OsfsteMhg6"
      },
      "source": [
        "Mediante la operación de ***Dropout***, se desactiva de forma aleatoria un determinado número de neuronas de la capa previa. El origen de la técnica de ***Dropout***, se debe a la siguiente anécdota narrada por su propio creador, Geoffrey Hinton:<br>\n",
        "*“Fui a mi banco. Los cajeros cambiaban continuamente y le pregunté a uno de ellos el porqué. Él me dijo que no lo sabía, pero que los cambiaban seguido. Me di cuenta de que esto se debía a que se requiere de cooperación entre los empleados para defraudar al banco. Esto hizo que me diera cuenta de que, el remover aleatoriamente un subconjunto de neuronas por cada ejemplo, prevendría conspiraciones y por lo tanto reduciría el sobreajuste”.* <br><br>\n",
        "En este contexto, el *sobreajuste* es un fenómeno que provoca que un modelo de machine learning tenga un rendimiento sobresaliente en el conjunto de entrenamiento, pero no en el conjunto que se utilice para validar su desempeño. Es decir, el sobreajuste indica que el modelo es incapaz de tener un desempeño adecuado ante instancias que no forman parte del conjunto de entrenamiento. \n"
      ]
    },
    {
      "cell_type": "markdown",
      "metadata": {
        "id": "xY04xdUYAFeE"
      },
      "source": [
        "# **Compilación**"
      ]
    },
    {
      "cell_type": "code",
      "metadata": {
        "id": "8_T3TRHTAEIV"
      },
      "source": [
        "from tensorflow.keras import optimizers\n",
        "model.compile(optimizer='adam',\n",
        "              loss='binary_crossentropy',\n",
        "              metrics=['accuracy'])"
      ],
      "execution_count": null,
      "outputs": []
    },
    {
      "cell_type": "markdown",
      "metadata": {
        "id": "gj4P5iKfBN78"
      },
      "source": [
        "# **Entrenamiento**"
      ]
    },
    {
      "cell_type": "code",
      "metadata": {
        "id": "b8TUQ6oSBQP9",
        "colab": {
          "base_uri": "https://localhost:8080/"
        },
        "outputId": "ca40b008-b211-40ca-b826-e92efc8a0282"
      },
      "source": [
        "history = model.fit(train_data,\n",
        "                    train_labels,\n",
        "                    epochs=150,\n",
        "                    batch_size=100)"
      ],
      "execution_count": null,
      "outputs": [
        {
          "output_type": "stream",
          "text": [
            "Epoch 1/150\n",
            "6/6 [==============================] - 1s 3ms/step - loss: 33.5002 - accuracy: 0.4699\n",
            "Epoch 2/150\n",
            "6/6 [==============================] - 0s 3ms/step - loss: 25.4602 - accuracy: 0.4943\n",
            "Epoch 3/150\n",
            "6/6 [==============================] - 0s 3ms/step - loss: 22.4118 - accuracy: 0.5074\n",
            "Epoch 4/150\n",
            "6/6 [==============================] - 0s 3ms/step - loss: 23.7990 - accuracy: 0.5315\n",
            "Epoch 5/150\n",
            "6/6 [==============================] - 0s 3ms/step - loss: 17.5915 - accuracy: 0.6493\n",
            "Epoch 6/150\n",
            "6/6 [==============================] - 0s 3ms/step - loss: 18.8481 - accuracy: 0.6034\n",
            "Epoch 7/150\n",
            "6/6 [==============================] - 0s 3ms/step - loss: 15.7701 - accuracy: 0.6525\n",
            "Epoch 8/150\n",
            "6/6 [==============================] - 0s 3ms/step - loss: 15.4833 - accuracy: 0.6100\n",
            "Epoch 9/150\n",
            "6/6 [==============================] - 0s 3ms/step - loss: 13.1375 - accuracy: 0.6982\n",
            "Epoch 10/150\n",
            "6/6 [==============================] - 0s 3ms/step - loss: 12.5956 - accuracy: 0.6578\n",
            "Epoch 11/150\n",
            "6/6 [==============================] - 0s 4ms/step - loss: 11.3914 - accuracy: 0.7206\n",
            "Epoch 12/150\n",
            "6/6 [==============================] - 0s 3ms/step - loss: 12.0432 - accuracy: 0.6226\n",
            "Epoch 13/150\n",
            "6/6 [==============================] - 0s 3ms/step - loss: 8.3546 - accuracy: 0.6848\n",
            "Epoch 14/150\n",
            "6/6 [==============================] - 0s 5ms/step - loss: 10.7231 - accuracy: 0.6671\n",
            "Epoch 15/150\n",
            "6/6 [==============================] - 0s 3ms/step - loss: 9.9795 - accuracy: 0.6738\n",
            "Epoch 16/150\n",
            "6/6 [==============================] - 0s 3ms/step - loss: 8.0865 - accuracy: 0.6649\n",
            "Epoch 17/150\n",
            "6/6 [==============================] - 0s 2ms/step - loss: 6.9591 - accuracy: 0.6764\n",
            "Epoch 18/150\n",
            "6/6 [==============================] - 0s 2ms/step - loss: 8.9920 - accuracy: 0.6969\n",
            "Epoch 19/150\n",
            "6/6 [==============================] - 0s 3ms/step - loss: 6.5891 - accuracy: 0.7295\n",
            "Epoch 20/150\n",
            "6/6 [==============================] - 0s 3ms/step - loss: 6.2938 - accuracy: 0.7355\n",
            "Epoch 21/150\n",
            "6/6 [==============================] - 0s 3ms/step - loss: 5.4563 - accuracy: 0.7175\n",
            "Epoch 22/150\n",
            "6/6 [==============================] - 0s 2ms/step - loss: 4.8957 - accuracy: 0.7245\n",
            "Epoch 23/150\n",
            "6/6 [==============================] - 0s 3ms/step - loss: 6.9947 - accuracy: 0.6754\n",
            "Epoch 24/150\n",
            "6/6 [==============================] - 0s 3ms/step - loss: 6.3181 - accuracy: 0.7387\n",
            "Epoch 25/150\n",
            "6/6 [==============================] - 0s 4ms/step - loss: 6.4892 - accuracy: 0.7230\n",
            "Epoch 26/150\n",
            "6/6 [==============================] - 0s 3ms/step - loss: 4.8119 - accuracy: 0.7165\n",
            "Epoch 27/150\n",
            "6/6 [==============================] - 0s 3ms/step - loss: 6.0847 - accuracy: 0.6794\n",
            "Epoch 28/150\n",
            "6/6 [==============================] - 0s 4ms/step - loss: 6.0632 - accuracy: 0.7226\n",
            "Epoch 29/150\n",
            "6/6 [==============================] - 0s 3ms/step - loss: 5.8444 - accuracy: 0.7036\n",
            "Epoch 30/150\n",
            "6/6 [==============================] - 0s 6ms/step - loss: 4.4340 - accuracy: 0.7450\n",
            "Epoch 31/150\n",
            "6/6 [==============================] - 0s 3ms/step - loss: 4.4156 - accuracy: 0.7148\n",
            "Epoch 32/150\n",
            "6/6 [==============================] - 0s 4ms/step - loss: 3.5300 - accuracy: 0.7420\n",
            "Epoch 33/150\n",
            "6/6 [==============================] - 0s 4ms/step - loss: 3.3032 - accuracy: 0.7521\n",
            "Epoch 34/150\n",
            "6/6 [==============================] - 0s 2ms/step - loss: 3.3568 - accuracy: 0.7402\n",
            "Epoch 35/150\n",
            "6/6 [==============================] - 0s 3ms/step - loss: 3.6816 - accuracy: 0.7366\n",
            "Epoch 36/150\n",
            "6/6 [==============================] - 0s 4ms/step - loss: 2.9685 - accuracy: 0.7719\n",
            "Epoch 37/150\n",
            "6/6 [==============================] - 0s 2ms/step - loss: 4.0542 - accuracy: 0.7399\n",
            "Epoch 38/150\n",
            "6/6 [==============================] - 0s 3ms/step - loss: 2.5369 - accuracy: 0.7561\n",
            "Epoch 39/150\n",
            "6/6 [==============================] - 0s 3ms/step - loss: 2.3773 - accuracy: 0.7590\n",
            "Epoch 40/150\n",
            "6/6 [==============================] - 0s 4ms/step - loss: 4.1977 - accuracy: 0.7400\n",
            "Epoch 41/150\n",
            "6/6 [==============================] - 0s 3ms/step - loss: 2.9803 - accuracy: 0.7285\n",
            "Epoch 42/150\n",
            "6/6 [==============================] - 0s 3ms/step - loss: 2.8249 - accuracy: 0.7189\n",
            "Epoch 43/150\n",
            "6/6 [==============================] - 0s 3ms/step - loss: 3.0467 - accuracy: 0.7534\n",
            "Epoch 44/150\n",
            "6/6 [==============================] - 0s 3ms/step - loss: 2.5837 - accuracy: 0.7550\n",
            "Epoch 45/150\n",
            "6/6 [==============================] - 0s 3ms/step - loss: 1.9741 - accuracy: 0.8263\n",
            "Epoch 46/150\n",
            "6/6 [==============================] - 0s 3ms/step - loss: 2.6179 - accuracy: 0.7886\n",
            "Epoch 47/150\n",
            "6/6 [==============================] - 0s 3ms/step - loss: 1.8746 - accuracy: 0.7890\n",
            "Epoch 48/150\n",
            "6/6 [==============================] - 0s 3ms/step - loss: 2.1458 - accuracy: 0.7799\n",
            "Epoch 49/150\n",
            "6/6 [==============================] - 0s 3ms/step - loss: 1.8117 - accuracy: 0.8073\n",
            "Epoch 50/150\n",
            "6/6 [==============================] - 0s 3ms/step - loss: 2.9312 - accuracy: 0.7828\n",
            "Epoch 51/150\n",
            "6/6 [==============================] - 0s 3ms/step - loss: 2.4064 - accuracy: 0.7373\n",
            "Epoch 52/150\n",
            "6/6 [==============================] - 0s 3ms/step - loss: 2.3034 - accuracy: 0.7809\n",
            "Epoch 53/150\n",
            "6/6 [==============================] - 0s 3ms/step - loss: 1.1285 - accuracy: 0.8361\n",
            "Epoch 54/150\n",
            "6/6 [==============================] - 0s 2ms/step - loss: 1.6695 - accuracy: 0.8305\n",
            "Epoch 55/150\n",
            "6/6 [==============================] - 0s 4ms/step - loss: 1.7440 - accuracy: 0.7939\n",
            "Epoch 56/150\n",
            "6/6 [==============================] - 0s 4ms/step - loss: 1.3227 - accuracy: 0.8050\n",
            "Epoch 57/150\n",
            "6/6 [==============================] - 0s 4ms/step - loss: 1.4823 - accuracy: 0.7886\n",
            "Epoch 58/150\n",
            "6/6 [==============================] - 0s 3ms/step - loss: 1.6518 - accuracy: 0.8164\n",
            "Epoch 59/150\n",
            "6/6 [==============================] - 0s 4ms/step - loss: 1.7821 - accuracy: 0.8042\n",
            "Epoch 60/150\n",
            "6/6 [==============================] - 0s 3ms/step - loss: 1.5062 - accuracy: 0.7994\n",
            "Epoch 61/150\n",
            "6/6 [==============================] - 0s 6ms/step - loss: 1.6880 - accuracy: 0.7557\n",
            "Epoch 62/150\n",
            "6/6 [==============================] - 0s 3ms/step - loss: 1.2374 - accuracy: 0.7826\n",
            "Epoch 63/150\n",
            "6/6 [==============================] - 0s 3ms/step - loss: 1.3765 - accuracy: 0.8098\n",
            "Epoch 64/150\n",
            "6/6 [==============================] - 0s 3ms/step - loss: 1.2074 - accuracy: 0.8279\n",
            "Epoch 65/150\n",
            "6/6 [==============================] - 0s 3ms/step - loss: 1.8546 - accuracy: 0.7722\n",
            "Epoch 66/150\n",
            "6/6 [==============================] - 0s 5ms/step - loss: 1.4982 - accuracy: 0.7892\n",
            "Epoch 67/150\n",
            "6/6 [==============================] - 0s 3ms/step - loss: 1.7980 - accuracy: 0.7575\n",
            "Epoch 68/150\n",
            "6/6 [==============================] - 0s 4ms/step - loss: 1.3126 - accuracy: 0.7619\n",
            "Epoch 69/150\n",
            "6/6 [==============================] - 0s 3ms/step - loss: 1.5464 - accuracy: 0.7961\n",
            "Epoch 70/150\n",
            "6/6 [==============================] - 0s 4ms/step - loss: 1.3153 - accuracy: 0.7673\n",
            "Epoch 71/150\n",
            "6/6 [==============================] - 0s 3ms/step - loss: 1.2631 - accuracy: 0.7787\n",
            "Epoch 72/150\n",
            "6/6 [==============================] - 0s 4ms/step - loss: 1.1102 - accuracy: 0.8154\n",
            "Epoch 73/150\n",
            "6/6 [==============================] - 0s 6ms/step - loss: 1.1087 - accuracy: 0.7749\n",
            "Epoch 74/150\n",
            "6/6 [==============================] - 0s 4ms/step - loss: 0.8983 - accuracy: 0.7860\n",
            "Epoch 75/150\n",
            "6/6 [==============================] - 0s 3ms/step - loss: 0.8803 - accuracy: 0.8164\n",
            "Epoch 76/150\n",
            "6/6 [==============================] - 0s 3ms/step - loss: 1.1124 - accuracy: 0.8061\n",
            "Epoch 77/150\n",
            "6/6 [==============================] - 0s 3ms/step - loss: 1.6032 - accuracy: 0.8052\n",
            "Epoch 78/150\n",
            "6/6 [==============================] - 0s 3ms/step - loss: 1.3078 - accuracy: 0.8068\n",
            "Epoch 79/150\n",
            "6/6 [==============================] - 0s 3ms/step - loss: 1.4965 - accuracy: 0.7933\n",
            "Epoch 80/150\n",
            "6/6 [==============================] - 0s 4ms/step - loss: 0.9783 - accuracy: 0.8346\n",
            "Epoch 81/150\n",
            "6/6 [==============================] - 0s 3ms/step - loss: 0.8511 - accuracy: 0.8144\n",
            "Epoch 82/150\n",
            "6/6 [==============================] - 0s 5ms/step - loss: 1.2034 - accuracy: 0.8240\n",
            "Epoch 83/150\n",
            "6/6 [==============================] - 0s 4ms/step - loss: 0.7729 - accuracy: 0.8448\n",
            "Epoch 84/150\n",
            "6/6 [==============================] - 0s 3ms/step - loss: 0.9728 - accuracy: 0.7944\n",
            "Epoch 85/150\n",
            "6/6 [==============================] - 0s 4ms/step - loss: 0.9825 - accuracy: 0.8179\n",
            "Epoch 86/150\n",
            "6/6 [==============================] - 0s 5ms/step - loss: 1.0470 - accuracy: 0.8363\n",
            "Epoch 87/150\n",
            "6/6 [==============================] - 0s 3ms/step - loss: 0.5210 - accuracy: 0.8666\n",
            "Epoch 88/150\n",
            "6/6 [==============================] - 0s 3ms/step - loss: 0.7958 - accuracy: 0.8213\n",
            "Epoch 89/150\n",
            "6/6 [==============================] - 0s 3ms/step - loss: 0.6266 - accuracy: 0.8423\n",
            "Epoch 90/150\n",
            "6/6 [==============================] - 0s 3ms/step - loss: 1.4407 - accuracy: 0.8156\n",
            "Epoch 91/150\n",
            "6/6 [==============================] - 0s 4ms/step - loss: 0.5190 - accuracy: 0.8216\n",
            "Epoch 92/150\n",
            "6/6 [==============================] - 0s 4ms/step - loss: 0.8355 - accuracy: 0.8161\n",
            "Epoch 93/150\n",
            "6/6 [==============================] - 0s 5ms/step - loss: 0.7272 - accuracy: 0.8489\n",
            "Epoch 94/150\n",
            "6/6 [==============================] - 0s 3ms/step - loss: 0.6482 - accuracy: 0.8579\n",
            "Epoch 95/150\n",
            "6/6 [==============================] - 0s 4ms/step - loss: 0.9510 - accuracy: 0.8206\n",
            "Epoch 96/150\n",
            "6/6 [==============================] - 0s 4ms/step - loss: 0.8666 - accuracy: 0.8230\n",
            "Epoch 97/150\n",
            "6/6 [==============================] - 0s 4ms/step - loss: 0.7409 - accuracy: 0.8569\n",
            "Epoch 98/150\n",
            "6/6 [==============================] - 0s 4ms/step - loss: 0.5996 - accuracy: 0.8515\n",
            "Epoch 99/150\n",
            "6/6 [==============================] - 0s 3ms/step - loss: 0.6628 - accuracy: 0.8222\n",
            "Epoch 100/150\n",
            "6/6 [==============================] - 0s 4ms/step - loss: 1.2978 - accuracy: 0.8359\n",
            "Epoch 101/150\n",
            "6/6 [==============================] - 0s 3ms/step - loss: 0.8365 - accuracy: 0.8469\n",
            "Epoch 102/150\n",
            "6/6 [==============================] - 0s 4ms/step - loss: 1.0452 - accuracy: 0.8390\n",
            "Epoch 103/150\n",
            "6/6 [==============================] - 0s 4ms/step - loss: 1.1255 - accuracy: 0.8303\n",
            "Epoch 104/150\n",
            "6/6 [==============================] - 0s 3ms/step - loss: 0.5387 - accuracy: 0.8504\n",
            "Epoch 105/150\n",
            "6/6 [==============================] - 0s 6ms/step - loss: 0.5102 - accuracy: 0.8628\n",
            "Epoch 106/150\n",
            "6/6 [==============================] - 0s 3ms/step - loss: 0.8080 - accuracy: 0.8138\n",
            "Epoch 107/150\n",
            "6/6 [==============================] - 0s 5ms/step - loss: 0.5468 - accuracy: 0.8532\n",
            "Epoch 108/150\n",
            "6/6 [==============================] - 0s 3ms/step - loss: 0.6007 - accuracy: 0.8490\n",
            "Epoch 109/150\n",
            "6/6 [==============================] - 0s 3ms/step - loss: 0.7847 - accuracy: 0.8522\n",
            "Epoch 110/150\n",
            "6/6 [==============================] - 0s 4ms/step - loss: 0.7976 - accuracy: 0.8536\n",
            "Epoch 111/150\n",
            "6/6 [==============================] - 0s 3ms/step - loss: 0.8358 - accuracy: 0.8512\n",
            "Epoch 112/150\n",
            "6/6 [==============================] - 0s 3ms/step - loss: 0.7360 - accuracy: 0.8360\n",
            "Epoch 113/150\n",
            "6/6 [==============================] - 0s 3ms/step - loss: 0.5589 - accuracy: 0.8510\n",
            "Epoch 114/150\n",
            "6/6 [==============================] - 0s 4ms/step - loss: 0.8490 - accuracy: 0.8574\n",
            "Epoch 115/150\n",
            "6/6 [==============================] - 0s 3ms/step - loss: 0.7637 - accuracy: 0.8276\n",
            "Epoch 116/150\n",
            "6/6 [==============================] - 0s 3ms/step - loss: 0.5603 - accuracy: 0.8431\n",
            "Epoch 117/150\n",
            "6/6 [==============================] - 0s 4ms/step - loss: 0.6848 - accuracy: 0.8384\n",
            "Epoch 118/150\n",
            "6/6 [==============================] - 0s 6ms/step - loss: 0.6099 - accuracy: 0.8472\n",
            "Epoch 119/150\n",
            "6/6 [==============================] - 0s 3ms/step - loss: 0.7838 - accuracy: 0.8518\n",
            "Epoch 120/150\n",
            "6/6 [==============================] - 0s 3ms/step - loss: 0.8485 - accuracy: 0.8342\n",
            "Epoch 121/150\n",
            "6/6 [==============================] - 0s 3ms/step - loss: 0.6722 - accuracy: 0.8779\n",
            "Epoch 122/150\n",
            "6/6 [==============================] - 0s 5ms/step - loss: 0.7731 - accuracy: 0.8537\n",
            "Epoch 123/150\n",
            "6/6 [==============================] - 0s 3ms/step - loss: 0.6829 - accuracy: 0.8366\n",
            "Epoch 124/150\n",
            "6/6 [==============================] - 0s 3ms/step - loss: 0.5938 - accuracy: 0.8537\n",
            "Epoch 125/150\n",
            "6/6 [==============================] - 0s 3ms/step - loss: 0.5415 - accuracy: 0.8199\n",
            "Epoch 126/150\n",
            "6/6 [==============================] - 0s 3ms/step - loss: 0.4365 - accuracy: 0.8683\n",
            "Epoch 127/150\n",
            "6/6 [==============================] - 0s 3ms/step - loss: 0.5286 - accuracy: 0.8488\n",
            "Epoch 128/150\n",
            "6/6 [==============================] - 0s 4ms/step - loss: 0.5620 - accuracy: 0.8718\n",
            "Epoch 129/150\n",
            "6/6 [==============================] - 0s 3ms/step - loss: 0.4209 - accuracy: 0.8693\n",
            "Epoch 130/150\n",
            "6/6 [==============================] - 0s 3ms/step - loss: 0.5899 - accuracy: 0.8647\n",
            "Epoch 131/150\n",
            "6/6 [==============================] - 0s 3ms/step - loss: 0.5684 - accuracy: 0.8504\n",
            "Epoch 132/150\n",
            "6/6 [==============================] - 0s 4ms/step - loss: 0.5602 - accuracy: 0.8682\n",
            "Epoch 133/150\n",
            "6/6 [==============================] - 0s 3ms/step - loss: 0.4874 - accuracy: 0.8702\n",
            "Epoch 134/150\n",
            "6/6 [==============================] - 0s 4ms/step - loss: 0.6343 - accuracy: 0.8587\n",
            "Epoch 135/150\n",
            "6/6 [==============================] - 0s 3ms/step - loss: 0.4871 - accuracy: 0.8482\n",
            "Epoch 136/150\n",
            "6/6 [==============================] - 0s 2ms/step - loss: 0.7903 - accuracy: 0.8297\n",
            "Epoch 137/150\n",
            "6/6 [==============================] - 0s 4ms/step - loss: 0.4527 - accuracy: 0.8588\n",
            "Epoch 138/150\n",
            "6/6 [==============================] - 0s 4ms/step - loss: 0.5278 - accuracy: 0.8740\n",
            "Epoch 139/150\n",
            "6/6 [==============================] - 0s 3ms/step - loss: 0.4420 - accuracy: 0.8699\n",
            "Epoch 140/150\n",
            "6/6 [==============================] - 0s 5ms/step - loss: 0.5475 - accuracy: 0.8640\n",
            "Epoch 141/150\n",
            "6/6 [==============================] - 0s 4ms/step - loss: 0.5302 - accuracy: 0.8405\n",
            "Epoch 142/150\n",
            "6/6 [==============================] - 0s 3ms/step - loss: 0.5077 - accuracy: 0.8811\n",
            "Epoch 143/150\n",
            "6/6 [==============================] - 0s 3ms/step - loss: 0.5287 - accuracy: 0.8337\n",
            "Epoch 144/150\n",
            "6/6 [==============================] - 0s 4ms/step - loss: 0.5479 - accuracy: 0.8568\n",
            "Epoch 145/150\n",
            "6/6 [==============================] - 0s 3ms/step - loss: 0.5726 - accuracy: 0.8403\n",
            "Epoch 146/150\n",
            "6/6 [==============================] - 0s 4ms/step - loss: 0.5932 - accuracy: 0.8546\n",
            "Epoch 147/150\n",
            "6/6 [==============================] - 0s 4ms/step - loss: 0.4683 - accuracy: 0.8795\n",
            "Epoch 148/150\n",
            "6/6 [==============================] - 0s 4ms/step - loss: 0.5696 - accuracy: 0.8660\n",
            "Epoch 149/150\n",
            "6/6 [==============================] - 0s 3ms/step - loss: 0.5541 - accuracy: 0.8526\n",
            "Epoch 150/150\n",
            "6/6 [==============================] - 0s 3ms/step - loss: 0.4365 - accuracy: 0.8619\n"
          ],
          "name": "stdout"
        }
      ]
    },
    {
      "cell_type": "markdown",
      "metadata": {
        "id": "oeCNHrZgMbYR"
      },
      "source": [
        "# **Curva de pérdida**"
      ]
    },
    {
      "cell_type": "code",
      "metadata": {
        "id": "uBtIoB3WMdjT",
        "colab": {
          "base_uri": "https://localhost:8080/",
          "height": 329
        },
        "outputId": "3b9f39c4-fa09-4790-b2d7-4b79641b80b4"
      },
      "source": [
        "import matplotlib.pyplot as plt\n",
        "\n",
        "loss = history.history['loss']\n",
        "min_loss = min(loss)\n",
        "min_loss_epoch= loss.index(min(loss)) + 1\n",
        "\n",
        "epochs = range(1, len(loss) + 1)\n",
        "\n",
        "plt.plot(epochs, loss, 'r', label='Training loss')\n",
        "plt.plot(min_loss_epoch, min_loss, 'bo', label='Minimun loss')\n",
        "plt.title('Training loss')\n",
        "plt.xlabel('Epochs')\n",
        "plt.ylabel('Loss')\n",
        "plt.legend()\n",
        "\n",
        "plt.show()\n",
        "print('Best epoch: ', min_loss_epoch)\n",
        "print('Best loss ', min_loss)"
      ],
      "execution_count": null,
      "outputs": [
        {
          "output_type": "display_data",
          "data": {
            "image/png": "[encoded data removed]",
            "text/plain": [
              "<Figure size 432x288 with 1 Axes>"
            ]
          },
          "metadata": {
            "tags": [],
            "needs_background": "light"
          }
        },
        {
          "output_type": "stream",
          "text": [
            "Best epoch:  139\n",
            "Best loss  0.43106579780578613\n"
          ],
          "name": "stdout"
        }
      ]
    },
    {
      "cell_type": "markdown",
      "metadata": {
        "id": "9LMzNwytMeTq"
      },
      "source": [
        "# **Curva de precisión**"
      ]
    },
    {
      "cell_type": "code",
      "metadata": {
        "id": "qE5UKlqgMjvE",
        "colab": {
          "base_uri": "https://localhost:8080/",
          "height": 329
        },
        "outputId": "8b88c53f-ce50-4009-925c-70603c13b1c2"
      },
      "source": [
        "plt.clf()   # clear figure\n",
        "\n",
        "acc = history.history['accuracy']\n",
        "max_acc = max(acc)\n",
        "max_acc_epoch= acc.index(max(acc)) + 1\n",
        "\n",
        "plt.plot(epochs, acc, 'r', label='Training accuracy')\n",
        "plt.plot(max_acc_epoch, max_acc, 'bo', label='Maximum accuracy')\n",
        "plt.title('Training accuracy')\n",
        "plt.xlabel('Epochs')\n",
        "plt.ylabel('Accuracy')\n",
        "plt.legend()\n",
        "\n",
        "plt.show()\n",
        "print('Best epoch: ', max_acc_epoch)\n",
        "print('Best acc ', max_acc)"
      ],
      "execution_count": null,
      "outputs": [
        {
          "output_type": "display_data",
          "data": {
            "image/png": "[encoded data removed]",
            "text/plain": [
              "<Figure size 432x288 with 1 Axes>"
            ]
          },
          "metadata": {
            "tags": [],
            "needs_background": "light"
          }
        },
        {
          "output_type": "stream",
          "text": [
            "Best epoch:  133\n",
            "Best acc  0.875\n"
          ],
          "name": "stdout"
        }
      ]
    },
    {
      "cell_type": "markdown",
      "metadata": {
        "id": "Eu3x87KKn20_"
      },
      "source": [
        "# **Predicción**"
      ]
    },
    {
      "cell_type": "markdown",
      "metadata": {
        "id": "_Cu3y7j7n51P"
      },
      "source": [
        "Para esta etapa, mediante la expresión y_pred = (y_pred > 0.5), hacemos que aquellas instancias de entrada que tengan como resultado de salida un valor mayor a 0.5, sean representadas como \"True\" o 1, mientras que aquellas que tenga un valor menor a 0.5, sean representadas como \"False\" o 0."
      ]
    },
    {
      "cell_type": "code",
      "metadata": {
        "id": "BpWxbdMun33e",
        "colab": {
          "base_uri": "https://localhost:8080/"
        },
        "outputId": "5e03689f-05b7-4e22-cf5c-ffeb47f38cb6"
      },
      "source": [
        "test_predictions = model.predict(test_data)\n",
        "test_predictions"
      ],
      "execution_count": null,
      "outputs": [
        {
          "output_type": "execute_result",
          "data": {
            "text/plain": [
              "array([[0.24817118],\n",
              "       [0.05316317],\n",
              "       [0.83526564],\n",
              "       [0.99765515],\n",
              "       [0.02153   ],\n",
              "       [1.        ],\n",
              "       [0.0704402 ],\n",
              "       [0.02361855],\n",
              "       [0.18075722],\n",
              "       [0.6227789 ],\n",
              "       [0.10705462],\n",
              "       [0.92702454],\n",
              "       [0.03349093],\n",
              "       [0.10151786],\n",
              "       [0.09124604],\n",
              "       [0.01609105],\n",
              "       [0.6650328 ],\n",
              "       [0.16915187],\n",
              "       [0.08318588],\n",
              "       [0.1266293 ],\n",
              "       [1.        ],\n",
              "       [0.26513702],\n",
              "       [0.5990675 ],\n",
              "       [0.26779145],\n",
              "       [0.03923577],\n",
              "       [0.90380454],\n",
              "       [0.06437674],\n",
              "       [0.08172265],\n",
              "       [0.0294562 ],\n",
              "       [0.16436395],\n",
              "       [0.351242  ],\n",
              "       [0.17766017],\n",
              "       [0.4414112 ],\n",
              "       [0.01675534],\n",
              "       [0.999999  ],\n",
              "       [0.80389005],\n",
              "       [0.09633428],\n",
              "       [0.24183694],\n",
              "       [0.99999654],\n",
              "       [0.10166022],\n",
              "       [0.3800786 ],\n",
              "       [0.99998647],\n",
              "       [0.13003805],\n",
              "       [0.181263  ],\n",
              "       [0.48277146],\n",
              "       [0.99993986],\n",
              "       [0.4371536 ],\n",
              "       [0.52215314],\n",
              "       [0.23751238],\n",
              "       [0.6383724 ],\n",
              "       [0.9999081 ],\n",
              "       [0.9505632 ],\n",
              "       [0.26307392],\n",
              "       [0.2637977 ],\n",
              "       [0.99993   ],\n",
              "       [0.03500265],\n",
              "       [0.04142696]], dtype=float32)"
            ]
          },
          "metadata": {
            "tags": []
          },
          "execution_count": 51
        }
      ]
    },
    {
      "cell_type": "code",
      "metadata": {
        "id": "G7ODDcxyysmw",
        "colab": {
          "base_uri": "https://localhost:8080/"
        },
        "outputId": "6f444183-75a1-4441-a257-5af20229af93"
      },
      "source": [
        "test_predictions = (test_predictions > 0.5)\n",
        "print(test_predictions)"
      ],
      "execution_count": null,
      "outputs": [
        {
          "output_type": "stream",
          "text": [
            "[[False]\n",
            " [False]\n",
            " [ True]\n",
            " [ True]\n",
            " [False]\n",
            " [ True]\n",
            " [False]\n",
            " [False]\n",
            " [False]\n",
            " [ True]\n",
            " [False]\n",
            " [ True]\n",
            " [False]\n",
            " [False]\n",
            " [False]\n",
            " [False]\n",
            " [ True]\n",
            " [False]\n",
            " [False]\n",
            " [False]\n",
            " [ True]\n",
            " [False]\n",
            " [ True]\n",
            " [False]\n",
            " [False]\n",
            " [ True]\n",
            " [False]\n",
            " [False]\n",
            " [False]\n",
            " [False]\n",
            " [False]\n",
            " [False]\n",
            " [False]\n",
            " [False]\n",
            " [ True]\n",
            " [ True]\n",
            " [False]\n",
            " [False]\n",
            " [ True]\n",
            " [False]\n",
            " [False]\n",
            " [ True]\n",
            " [False]\n",
            " [False]\n",
            " [False]\n",
            " [ True]\n",
            " [False]\n",
            " [ True]\n",
            " [False]\n",
            " [ True]\n",
            " [ True]\n",
            " [ True]\n",
            " [False]\n",
            " [False]\n",
            " [ True]\n",
            " [False]\n",
            " [False]]\n"
          ],
          "name": "stdout"
        }
      ]
    },
    {
      "cell_type": "markdown",
      "metadata": {
        "id": "SAhKDKZYoh2P"
      },
      "source": [
        "# **Matriz de confusión**"
      ]
    },
    {
      "cell_type": "code",
      "metadata": {
        "id": "nljtfDCEokI3"
      },
      "source": [
        "from sklearn.metrics import confusion_matrix\n",
        "cm = confusion_matrix(test_labels, test_predictions)"
      ],
      "execution_count": null,
      "outputs": []
    },
    {
      "cell_type": "code",
      "metadata": {
        "id": "2hj13oPkou1d",
        "colab": {
          "base_uri": "https://localhost:8080/"
        },
        "outputId": "4eac5b60-290d-4d92-fbfd-143456c3fbf4"
      },
      "source": [
        "cm"
      ],
      "execution_count": null,
      "outputs": [
        {
          "output_type": "execute_result",
          "data": {
            "text/plain": [
              "array([[36,  0],\n",
              "       [ 2, 19]])"
            ]
          },
          "metadata": {
            "tags": []
          },
          "execution_count": 54
        }
      ]
    },
    {
      "cell_type": "code",
      "metadata": {
        "id": "YEvi5QZb2-K6",
        "colab": {
          "base_uri": "https://localhost:8080/",
          "height": 438
        },
        "outputId": "31032adf-31d1-425c-ff5f-6ef220e88b35"
      },
      "source": [
        "fig, ax = plt.subplots(figsize=(5, 5))\n",
        "ax.matshow(cm, cmap=plt.cm.Greys, alpha=0.5)\n",
        "for i in range(cm.shape[0]):\n",
        "    for j in range(cm.shape[1]):\n",
        "        ax.text(x=j, y=i, s=cm[i, j], va='center', ha='center')\n",
        "\n",
        "plt.title(\"Matriz de confusión\", fontsize=15)\n",
        "plt.xlabel('Predicciones')\n",
        "plt.ylabel('Valores verdaderos o etiquetas')\n",
        "\n",
        "plt.tight_layout()\n",
        "#plt.savefig('images/06_09.png', dpi=300)\n",
        "plt.show()"
      ],
      "execution_count": null,
      "outputs": [
        {
          "output_type": "stream",
          "text": [
            "0\n",
            "1\n",
            "0\n",
            "1\n"
          ],
          "name": "stdout"
        },
        {
          "output_type": "display_data",
          "data": {
            "image/png": "[encoded data removed]",
            "text/plain": [
              "<Figure size 360x360 with 1 Axes>"
            ]
          },
          "metadata": {
            "tags": [],
            "needs_background": "light"
          }
        }
      ]
    },
    {
      "cell_type": "markdown",
      "metadata": {
        "id": "_LQPD3ySpBzf"
      },
      "source": [
        "NOTA: La arquitectura presentada en este notebook, los parámetros usados para entrenar dicha arquitectura y el código referente a la matriz de confusión, incluyendo el mapa de calor, se tomaron de: https://www.kaggle.com/thebrownviking20/intro-to-keras-with-breast-cancer-data-ann. Se recomienda leer dicha referencia, pues es un artículo introductorio sumamente accesible y didáctico."
      ]
    },
    {
      "cell_type": "markdown",
      "metadata": {
        "id": "OpZu5N07qC8G"
      },
      "source": [
        "# **Evaluación del desempeño con base a las métricas de precisión, recall y F1.**"
      ]
    },
    {
      "cell_type": "code",
      "metadata": {
        "id": "kCwbmywjpPkI",
        "colab": {
          "base_uri": "https://localhost:8080/"
        },
        "outputId": "8809858d-ca42-451c-9d45-cbf767f36ca8"
      },
      "source": [
        "from sklearn.metrics import precision_score\n",
        "from sklearn.metrics import recall_score, f1_score\n",
        "\n",
        "print('Precision: %.3f' % precision_score(y_true=test_labels, y_pred=test_predictions, average = 'binary'))\n",
        "print('Recall: %.3f' % recall_score(y_true=test_labels, y_pred=test_predictions, average = 'binary'))\n",
        "print('F1: %.3f' % f1_score(y_true=test_labels, y_pred=test_predictions, average = 'binary'))"
      ],
      "execution_count": null,
      "outputs": [
        {
          "output_type": "stream",
          "text": [
            "Precision: 1.000\n",
            "Recall: 0.905\n",
            "F1: 0.950\n"
          ],
          "name": "stdout"
        }
      ]
    }
  ]
}